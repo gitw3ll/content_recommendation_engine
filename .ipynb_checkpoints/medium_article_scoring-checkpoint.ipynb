{
 "cells": [
  {
   "cell_type": "code",
   "execution_count": 144,
   "metadata": {},
   "outputs": [],
   "source": [
    "import nltk\n",
    "import pandas as pd\n",
    "import numpy as np\n",
    "import re\n",
    "import string\n",
    "from newspaper import Article\n",
    "from sklearn.feature_extraction.text import CountVectorizer\n",
    "import matplotlib.pyplot as plt"
   ]
  },
  {
   "cell_type": "code",
   "execution_count": 145,
   "metadata": {},
   "outputs": [],
   "source": [
    "article = Article(\"https://time.com/4793331/instagram-social-media-mental-health/\")\n",
    "article.download()\n",
    "article.parse()\n",
    "corpus = article.text"
   ]
  },
  {
   "cell_type": "code",
   "execution_count": 146,
   "metadata": {},
   "outputs": [
    {
     "data": {
      "text/plain": [
       "['instagram is the worst social media network for mental health and wellbeing according to a recent survey of almost  teens and young adults while the photobased platform got points for selfexpression and selfidentity it was also associated with high levels of anxiety depression bullying and fomo or the “fear of missing out”out of five social networks included in the survey youtube received the highest marks for health and wellbeing and was the only site that received a net positive score by respondents twitter came in second followed by facebook and then snapchat—with instagram bringing up the rearthe statusofmind survey published by the united kingdom’s royal society for public health included input from  young people ages  to  from across england scotland wales and northern ireland from february through may of this year people answered questions about how different social media platforms impacted  different issues related to their mental or physical healththere were certainly some benefits associated with social networking all of the sites received positive scores for selfidentity selfexpression community building and emotional support for example youtube also got high marks for bringing awareness of other people’s health experiences for providing access to trustworthy health information and for decreasing respondents’ levels of depression anxiety and lonelinessget our health newsletter sign up to receive the latest health and science news plus answers to wellness questions and expert tips please enter a valid email address sign up now check the box if you do not wish to receive promotional offers via email from time you can unsubscribe at any time by signing up you are agreeing to our terms of use and privacy policy thank you for your security weve sent a confirmation email to the address you entered click the link to confirm your subscription and begin receiving our newsletters if you dont get the confirmation within  minutes please check your spam folderbut they all received negative marks as well—especially for sleep quality bullying body image and fomo and unlike youtube the other four networks were associated with increases in depression and anxietyprevious studies have suggested that young people who spend more than two hours a day on social networking sites are more likely to report psychological distress “seeing friends constantly on holiday or enjoying nights out can make young people feel like they are missing out while others enjoy life” the statusofmind report states “these feelings can promote a ‘compare and despair’ attitude”social media posts can also set unrealistic expectations and create feelings of inadequacy and low selfesteem the authors wrote this may explain why instagram where personal photos take center stage received the worst scores for body image and anxiety as one survey respondent wrote “instagram easily makes girls and women feel as if their bodies aren’t good enough as people add filters and edit their pictures in order for them to look ‘perfect’”more why you should let someone else choose your tinder photoother research has found that the more social networks a young adult uses the more likely he or she is to report depression and anxiety trying to navigate between different norms and friend networks on various platforms could be to blame study authors say—although it’s also possible that people with poor mental health are drawn to multiple socialmedia platforms in the first placeto reduce the harmful effects of social media on children and young adults the royal society is calling for social media companies to make changes the report recommends the introduction of a popup “heavy usage” warning within these apps or website—something  of survey respondents said they’d supportit also recommends that companies find a way to highlight when photos of people have been digitally manipulated as well as identify and offer help to users who could be suffering from mental health problems a feature rolled out on instagram last year allowing users to anonymously flag troublesome poststhe government can also help the report states it calls for “safe social media use” to be taught during health education in schools for professionals who work with youth to be trained in digital and social media and for more research to be conducted on the effects of social media on mental healththe royal society hopes to empower young adults to use social networks “in a way that protects and promotes their health and wellbeing” the report states “social media isn’t going away soon nor should it we must be ready to nurture the innovation that the future holds”contact us at editorstimecom']"
      ]
     },
     "execution_count": 146,
     "metadata": {},
     "output_type": "execute_result"
    }
   ],
   "source": [
    "def clean(text):\n",
    "    text = text.lower()\n",
    "    text = re.sub('\\n','',text) \n",
    "    text = re.sub('[.*?\\â£]', '', text)\n",
    "    text = re.sub('[%s]' % re.escape(string.punctuation), '', text)\n",
    "    text = re.sub('\\w*\\d\\w*', '', text)\n",
    "    return text\n",
    "\n",
    "clean_corpus = [clean(corpus)]\n",
    "clean_corpus"
   ]
  },
  {
   "cell_type": "code",
   "execution_count": 147,
   "metadata": {},
   "outputs": [
    {
     "data": {
      "text/html": [
       "<div>\n",
       "<style scoped>\n",
       "    .dataframe tbody tr th:only-of-type {\n",
       "        vertical-align: middle;\n",
       "    }\n",
       "\n",
       "    .dataframe tbody tr th {\n",
       "        vertical-align: top;\n",
       "    }\n",
       "\n",
       "    .dataframe thead th {\n",
       "        text-align: right;\n",
       "    }\n",
       "</style>\n",
       "<table border=\"1\" class=\"dataframe\">\n",
       "  <thead>\n",
       "    <tr style=\"text-align: right;\">\n",
       "      <th></th>\n",
       "      <th>word</th>\n",
       "      <th>count</th>\n",
       "    </tr>\n",
       "  </thead>\n",
       "  <tbody>\n",
       "    <tr>\n",
       "      <th>0</th>\n",
       "      <td>access</td>\n",
       "      <td>1</td>\n",
       "    </tr>\n",
       "    <tr>\n",
       "      <th>1</th>\n",
       "      <td>according</td>\n",
       "      <td>1</td>\n",
       "    </tr>\n",
       "    <tr>\n",
       "      <th>2</th>\n",
       "      <td>add</td>\n",
       "      <td>1</td>\n",
       "    </tr>\n",
       "    <tr>\n",
       "      <th>3</th>\n",
       "      <td>address</td>\n",
       "      <td>2</td>\n",
       "    </tr>\n",
       "    <tr>\n",
       "      <th>4</th>\n",
       "      <td>adult</td>\n",
       "      <td>1</td>\n",
       "    </tr>\n",
       "    <tr>\n",
       "      <th>...</th>\n",
       "      <td>...</td>\n",
       "      <td>...</td>\n",
       "    </tr>\n",
       "    <tr>\n",
       "      <th>280</th>\n",
       "      <td>wrote</td>\n",
       "      <td>2</td>\n",
       "    </tr>\n",
       "    <tr>\n",
       "      <th>281</th>\n",
       "      <td>year</td>\n",
       "      <td>2</td>\n",
       "    </tr>\n",
       "    <tr>\n",
       "      <th>282</th>\n",
       "      <td>young</td>\n",
       "      <td>7</td>\n",
       "    </tr>\n",
       "    <tr>\n",
       "      <th>283</th>\n",
       "      <td>youth</td>\n",
       "      <td>1</td>\n",
       "    </tr>\n",
       "    <tr>\n",
       "      <th>284</th>\n",
       "      <td>youtube</td>\n",
       "      <td>3</td>\n",
       "    </tr>\n",
       "  </tbody>\n",
       "</table>\n",
       "<p>285 rows × 2 columns</p>\n",
       "</div>"
      ],
      "text/plain": [
       "          word  count\n",
       "0       access      1\n",
       "1    according      1\n",
       "2          add      1\n",
       "3      address      2\n",
       "4        adult      1\n",
       "..         ...    ...\n",
       "280      wrote      2\n",
       "281       year      2\n",
       "282      young      7\n",
       "283      youth      1\n",
       "284    youtube      3\n",
       "\n",
       "[285 rows x 2 columns]"
      ]
     },
     "execution_count": 147,
     "metadata": {},
     "output_type": "execute_result"
    }
   ],
   "source": [
    "cv = CountVectorizer(ngram_range = (1,1), stop_words='english')\n",
    "data_cv = cv.fit_transform(clean_corpus)\n",
    "data_df = pd.DataFrame(data={'word':cv.get_feature_names(), 'count':data_cv.toarray().sum(axis=0)})\n",
    "data_df\n",
    "#print(cv.get_feature_names())"
   ]
  },
  {
   "cell_type": "code",
   "execution_count": 150,
   "metadata": {},
   "outputs": [
    {
     "data": {
      "text/html": [
       "<div>\n",
       "<style scoped>\n",
       "    .dataframe tbody tr th:only-of-type {\n",
       "        vertical-align: middle;\n",
       "    }\n",
       "\n",
       "    .dataframe tbody tr th {\n",
       "        vertical-align: top;\n",
       "    }\n",
       "\n",
       "    .dataframe thead th {\n",
       "        text-align: right;\n",
       "    }\n",
       "</style>\n",
       "<table border=\"1\" class=\"dataframe\">\n",
       "  <thead>\n",
       "    <tr style=\"text-align: right;\">\n",
       "      <th></th>\n",
       "      <th>count</th>\n",
       "    </tr>\n",
       "    <tr>\n",
       "      <th>color</th>\n",
       "      <th></th>\n",
       "    </tr>\n",
       "  </thead>\n",
       "  <tbody>\n",
       "    <tr>\n",
       "      <th></th>\n",
       "      <td>404</td>\n",
       "    </tr>\n",
       "    <tr>\n",
       "      <th>blue</th>\n",
       "      <td>1</td>\n",
       "    </tr>\n",
       "    <tr>\n",
       "      <th>green</th>\n",
       "      <td>16</td>\n",
       "    </tr>\n",
       "    <tr>\n",
       "      <th>red</th>\n",
       "      <td>1</td>\n",
       "    </tr>\n",
       "    <tr>\n",
       "      <th>yellow</th>\n",
       "      <td>4</td>\n",
       "    </tr>\n",
       "  </tbody>\n",
       "</table>\n",
       "</div>"
      ],
      "text/plain": [
       "        count\n",
       "color        \n",
       "          404\n",
       "blue        1\n",
       "green      16\n",
       "red         1\n",
       "yellow      4"
      ]
     },
     "execution_count": 150,
     "metadata": {},
     "output_type": "execute_result"
    }
   ],
   "source": [
    "# Correlating text to colors that affect mood\n",
    "color_db = {\n",
    "    'purple_neg': ['mystery', 'moodiness', 'boredom', 'confusion', 'disconnection'],\n",
    "    'purple_pos': ['connection', 'wisdom', 'spirituality', 'royalty', 'nobility', 'luxury', 'ambition', 'wealth', 'awaken'],\n",
    "    'blue_neg': ['coldness', 'masculinity', 'disgust', 'conflict', 'aggression'],\n",
    "    'blue_pos': ['intuition', 'imagination', 'iranquility', 'security', 'integrity', 'peace', 'loyalty', 'faith', 'intelligence', 'spiritual'],\n",
    "    'teal_neg': ['femininity', 'hostility', 'conflict', 'aggression', 'insecurity'],\n",
    "    'teal_pos': ['communication', 'expression', 'spiritual', 'healing', 'protection', 'sophisticated', 'cleanse', 'expression'],\n",
    "    'green_neg': ['envy', 'jealousy', 'guilt', 'fear', 'judgmental', 'unforgiving', 'anxiety'],\n",
    "    'green_pos': ['compassion', 'trust', 'freshness', 'environment', 'new', 'money', 'fertile', 'health', 'grounded', 'reconnecting', 'balanced'],\n",
    "    'yellow_neg': ['irresponsible', 'instability', 'grief', 'addiction', 'insecurity', 'depression'],\n",
    "    'yellow_pos': ['confident', 'bright', 'sunny', 'energetic', 'warm', 'happy', 'perky', 'joy', 'intellect'],\n",
    "    'orange_neg': ['ignorance', 'sluggishness', 'shame', 'compulsiveness', 'loneliness', 'dependence'],\n",
    "    'orange_pos': ['courage', 'confidence', 'friendliness', 'success', 'creativity', 'openness', 'sexual'],\n",
    "    'red_neg': ['anger', 'unsafe', 'warned', 'anxious', 'volatile', 'hopelessness'],\n",
    "    'red_pos': ['love', 'passion', 'energy', 'power', 'strength', 'heat', 'desire', 'safe', 'instinctive', 'security', 'liberating']\n",
    "}\n",
    "def find_color(word):\n",
    "    for key in color_db.keys():\n",
    "        if word in color_db[key]:\n",
    "            return key.split('_')[0]\n",
    "    return ''\n",
    "            \n",
    "data_df['color'] = data_df['word'].apply(find_color)\n",
    "data_count = data_df.groupby('color').sum()\n",
    "data_count"
   ]
  },
  {
   "cell_type": "code",
   "execution_count": 151,
   "metadata": {},
   "outputs": [
    {
     "data": {
      "image/png": "[encoded data removed]",
      "text/plain": [
       "<Figure size 432x288 with 1 Axes>"
      ]
     },
     "metadata": {
      "needs_background": "light"
     },
     "output_type": "display_data"
    }
   ],
   "source": [
    "colors = ['purple', 'blue', 'teal', 'green', 'yellow', 'orange', 'red']\n",
    "scores = []\n",
    "for i in range(len(colors)):\n",
    "    if colors[i] in data_count.index:\n",
    "        scores.append(data_count.loc[colors[i], 'count'])\n",
    "    else:\n",
    "        scores.append(0)\n",
    "        \n",
    "plt.bar(colors, scores)\n",
    "plt.title('Medium Article Color Scoring')\n",
    "plt.show()"
   ]
  },
  {
   "cell_type": "code",
   "execution_count": 44,
   "metadata": {},
   "outputs": [
    {
     "data": {
      "text/html": [
       "<div>\n",
       "<style scoped>\n",
       "    .dataframe tbody tr th:only-of-type {\n",
       "        vertical-align: middle;\n",
       "    }\n",
       "\n",
       "    .dataframe tbody tr th {\n",
       "        vertical-align: top;\n",
       "    }\n",
       "\n",
       "    .dataframe thead th {\n",
       "        text-align: right;\n",
       "    }\n",
       "</style>\n",
       "<table border=\"1\" class=\"dataframe\">\n",
       "  <thead>\n",
       "    <tr style=\"text-align: right;\">\n",
       "      <th></th>\n",
       "      <th>term</th>\n",
       "      <th>weight</th>\n",
       "    </tr>\n",
       "  </thead>\n",
       "  <tbody>\n",
       "    <tr>\n",
       "      <th>316</th>\n",
       "      <td>social media</td>\n",
       "      <td>0.382719</td>\n",
       "    </tr>\n",
       "    <tr>\n",
       "      <th>190</th>\n",
       "      <td>mental health</td>\n",
       "      <td>0.127573</td>\n",
       "    </tr>\n",
       "    <tr>\n",
       "      <th>391</th>\n",
       "      <td>young people</td>\n",
       "      <td>0.127573</td>\n",
       "    </tr>\n",
       "    <tr>\n",
       "      <th>390</th>\n",
       "      <td>young adults</td>\n",
       "      <td>0.127573</td>\n",
       "    </tr>\n",
       "    <tr>\n",
       "      <th>128</th>\n",
       "      <td>health wellbeing</td>\n",
       "      <td>0.127573</td>\n",
       "    </tr>\n",
       "    <tr>\n",
       "      <th>288</th>\n",
       "      <td>royal society</td>\n",
       "      <td>0.127573</td>\n",
       "    </tr>\n",
       "    <tr>\n",
       "      <th>318</th>\n",
       "      <td>social networks</td>\n",
       "      <td>0.127573</td>\n",
       "    </tr>\n",
       "  </tbody>\n",
       "</table>\n",
       "</div>"
      ],
      "text/plain": [
       "                 term    weight\n",
       "316      social media  0.382719\n",
       "190     mental health  0.127573\n",
       "391      young people  0.127573\n",
       "390      young adults  0.127573\n",
       "128  health wellbeing  0.127573\n",
       "288     royal society  0.127573\n",
       "318   social networks  0.127573"
      ]
     },
     "execution_count": 44,
     "metadata": {},
     "output_type": "execute_result"
    }
   ],
   "source": [
    "from sklearn.feature_extraction.text import TfidfTransformer\n",
    "transformer = TfidfTransformer()\n",
    "\n",
    "cv_unigram = CountVectorizer(ngram_range = (1,1), stop_words='english')\n",
    "cv_bigram = CountVectorizer(ngram_range = (2,2), stop_words='english')\n",
    "\n",
    "def unigram_themes(data):\n",
    "    data_cv_stop = cv_unigram.fit_transform(data)\n",
    "    transformed_weights = transformer.fit_transform(data_cv_stop)\n",
    "    weights = np.asarray(transformed_weights.mean(axis=0)).ravel().tolist()\n",
    "    weights_df = pd.DataFrame({'term': cv_unigram.get_feature_names(), 'weight': weights})\n",
    "    return weights_df.sort_values(by='weight', ascending=False).head(7)\n",
    "    \n",
    "def bigram_themes(data):\n",
    "    data_cv_stop = cv_bigram.fit_transform(data)\n",
    "    transformed_weights = transformer.fit_transform(data_cv_stop)\n",
    "    weights = np.asarray(transformed_weights.mean(axis=0)).ravel().tolist()\n",
    "    weights_df = pd.DataFrame({'term': cv_bigram.get_feature_names(), 'weight': weights})\n",
    "    return weights_df.sort_values(by='weight', ascending=False).head(7)\n",
    "\n",
    "\n",
    "#unigram_themes(clean_corpus)\n",
    "bigram_themes(clean_corpus)"
   ]
  },
  {
   "cell_type": "code",
   "execution_count": 46,
   "metadata": {},
   "outputs": [
    {
     "name": "stdout",
     "output_type": "stream",
     "text": [
      "\n",
      "Topic #0:\n",
      "social health media people\n",
      "\n",
      "Topic #1:\n",
      "social health media people\n"
     ]
    }
   ],
   "source": [
    "from sklearn.decomposition import LatentDirichletAllocation as LDA\n",
    "n_topics = 2\n",
    "n_words = 4\n",
    "\n",
    "cv = CountVectorizer(ngram_range = (1,1), stop_words = 'english')\n",
    "\n",
    "def print_LDA_topics(model, count_vectorizer, n_top_words):\n",
    "    words = cv.get_feature_names()\n",
    "    for topic_idx, topic in enumerate(model.components_):\n",
    "        print(\"\\nTopic #%d:\" % topic_idx)\n",
    "        print(\" \".join([words[i] for i in topic.argsort()[:-n_top_words - 1:-1]]))\n",
    "        \n",
    "\n",
    "data_cv = cv.fit_transform(clean_corpus)\n",
    "lda = LDA(n_components=n_topics, n_jobs=-1)\n",
    "lda.fit(data_cv)\n",
    "print_LDA_topics(lda, cv, n_words)"
   ]
  },
  {
   "cell_type": "code",
   "execution_count": null,
   "metadata": {},
   "outputs": [],
   "source": []
  }
 ],
 "metadata": {
  "kernelspec": {
   "display_name": "Python 3",
   "language": "python",
   "name": "python3"
  },
  "language_info": {
   "codemirror_mode": {
    "name": "ipython",
    "version": 3
   },
   "file_extension": ".py",
   "mimetype": "text/x-python",
   "name": "python",
   "nbconvert_exporter": "python",
   "pygments_lexer": "ipython3",
   "version": "3.7.4"
  }
 },
 "nbformat": 4,
 "nbformat_minor": 4
}
