{
 "cells": [
  {
   "cell_type": "markdown",
   "metadata": {},
   "source": [
    "# in an attempt to speed up the scraping, I want to try different delay parameters to see where we can maximize speed while not running into any server request 429 issues"
   ]
  },
  {
   "cell_type": "markdown",
   "metadata": {},
   "source": [
    "## I'll be using this notebook as a wrapper for the script in `medium_scraper_tag_archive_TIME-TEST.py` and setting the download delay here directly"
   ]
  },
  {
   "cell_type": "markdown",
   "metadata": {},
   "source": [
    "[`DOWNLOAD_DELAY` parameter info](https://docs.scrapy.org/en/latest/topics/settings.html)"
   ]
  },
  {
   "cell_type": "code",
   "execution_count": 19,
   "metadata": {},
   "outputs": [
    {
     "name": "stdout",
     "output_type": "stream",
     "text": [
      "/Users/fardila/Documents/GitHub/W3LL/content_recommendation_engine/scraping\r\n"
     ]
    }
   ],
   "source": [
    "import os\n",
    "import time\n",
    "import numpy as np\n",
    "import pandas as pd\n",
    "!pwd"
   ]
  },
  {
   "cell_type": "code",
   "execution_count": 30,
   "metadata": {},
   "outputs": [],
   "source": [
    "def time_script(script_string):\n",
    "    \"\"\"time the run\"\"\"\n",
    "    t0 = time.time()\n",
    "    !{script_string}\n",
    "    runtime = round(time.time() - t0,2)\n",
    "    print('{} seconds'.format(runtime))\n",
    "    return runtime\n",
    "\n",
    "def check_output(output_file):\n",
    "    df = pd.read_json(output_file)\n",
    "    return len(df)"
   ]
  },
  {
   "cell_type": "code",
   "execution_count": 39,
   "metadata": {},
   "outputs": [],
   "source": [
    "def run_string(delay):\n",
    "    \"\"\"run script from here diven a delay\"\"\"\n",
    "    start_date = '20180101'\n",
    "    end_date = '20180107'\n",
    "    tag = 'health'\n",
    "\n",
    "    scrapper_file = 'medium_scraper_tag_archive_TIME-TEST.py'\n",
    "    log_file = 'logs/'+start_date+tag+end_date+'.log'\n",
    "\n",
    "    output_dir = 'scraped_data/'\n",
    "    output_file = output_dir+start_date+tag+end_date+'_{0}.json'.format(delay)\n",
    "    if os.path.exists(output_file):\n",
    "        os.remove(output_file)\n",
    "        \n",
    "    command = 'scrapy runspider -a tag={tag} -a start_date={start_date} -a end_date={end_date} --logfile {log_file} {scrapper_file} -o {output_file} -s DOWNLOAD_DELAY={delay}'.format(tag=tag,start_date=start_date,end_date=end_date,scrapper_file=scrapper_file,output_file=output_file, log_file = log_file, delay=delay)\n",
    "    print(command)\n",
    "    \n",
    "    return command, output_file\n",
    "\n"
   ]
  },
  {
   "cell_type": "markdown",
   "metadata": {},
   "source": [
    "## Between 0 and 1"
   ]
  },
  {
   "cell_type": "code",
   "execution_count": 44,
   "metadata": {},
   "outputs": [
    {
     "data": {
      "text/plain": [
       "array([0. , 0.1, 0.2, 0.3, 0.4, 0.5, 0.6, 0.7, 0.8, 0.9, 1. ])"
      ]
     },
     "execution_count": 44,
     "metadata": {},
     "output_type": "execute_result"
    }
   ],
   "source": [
    "np.linspace(0,1,11)"
   ]
  },
  {
   "cell_type": "code",
   "execution_count": 45,
   "metadata": {},
   "outputs": [
    {
     "name": "stdout",
     "output_type": "stream",
     "text": [
      "scrapy runspider -a tag=health -a start_date=20180101 -a end_date=20180107 --logfile logs/20180101health20180107.log medium_scraper_tag_archive_TIME-TEST.py -o scraped_data/20180101health20180107_0.0.json -s DOWNLOAD_DELAY=0.0\n",
      "['https://medium.com/tag/health/archive/2018/01/01', 'https://medium.com/tag/health/archive/2018/01/02', 'https://medium.com/tag/health/archive/2018/01/03', 'https://medium.com/tag/health/archive/2018/01/04', 'https://medium.com/tag/health/archive/2018/01/05', 'https://medium.com/tag/health/archive/2018/01/06', 'https://medium.com/tag/health/archive/2018/01/07']\n",
      "***** 76 articles on 20180107, 76 total articles so far ****\n",
      "***** 103 articles on 20180106, 179 total articles so far ****\n",
      "***** 92 articles on 20180101, 271 total articles so far ****\n",
      "***** 141 articles on 20180102, 412 total articles so far ****\n",
      "***** 163 articles on 20180104, 575 total articles so far ****\n",
      "***** 164 articles on 20180105, 739 total articles so far ****\n",
      "***** 159 articles on 20180103, 898 total articles so far ****\n",
      "62.39 seconds\n",
      "scrapy runspider -a tag=health -a start_date=20180101 -a end_date=20180107 --logfile logs/20180101health20180107.log medium_scraper_tag_archive_TIME-TEST.py -o scraped_data/20180101health20180107_0.1.json -s DOWNLOAD_DELAY=0.1\n",
      "['https://medium.com/tag/health/archive/2018/01/01', 'https://medium.com/tag/health/archive/2018/01/02', 'https://medium.com/tag/health/archive/2018/01/03', 'https://medium.com/tag/health/archive/2018/01/04', 'https://medium.com/tag/health/archive/2018/01/05', 'https://medium.com/tag/health/archive/2018/01/06', 'https://medium.com/tag/health/archive/2018/01/07']\n",
      "***** 92 articles on 20180101, 92 total articles so far ****\n",
      "***** 76 articles on 20180107, 168 total articles so far ****\n",
      "***** 141 articles on 20180102, 309 total articles so far ****\n",
      "***** 103 articles on 20180106, 412 total articles so far ****\n",
      "***** 163 articles on 20180104, 575 total articles so far ****\n",
      "***** 159 articles on 20180103, 734 total articles so far ****\n",
      "***** 164 articles on 20180105, 898 total articles so far ****\n",
      "133.38 seconds\n",
      "scrapy runspider -a tag=health -a start_date=20180101 -a end_date=20180107 --logfile logs/20180101health20180107.log medium_scraper_tag_archive_TIME-TEST.py -o scraped_data/20180101health20180107_0.2.json -s DOWNLOAD_DELAY=0.2\n",
      "['https://medium.com/tag/health/archive/2018/01/01', 'https://medium.com/tag/health/archive/2018/01/02', 'https://medium.com/tag/health/archive/2018/01/03', 'https://medium.com/tag/health/archive/2018/01/04', 'https://medium.com/tag/health/archive/2018/01/05', 'https://medium.com/tag/health/archive/2018/01/06', 'https://medium.com/tag/health/archive/2018/01/07']\n",
      "***** 92 articles on 20180101, 92 total articles so far ****\n",
      "***** 141 articles on 20180102, 233 total articles so far ****\n",
      "***** 164 articles on 20180105, 397 total articles so far ****\n",
      "***** 159 articles on 20180103, 556 total articles so far ****\n",
      "***** 103 articles on 20180106, 659 total articles so far ****\n",
      "***** 76 articles on 20180107, 735 total articles so far ****\n",
      "***** 163 articles on 20180104, 898 total articles so far ****\n",
      "229.38 seconds\n",
      "scrapy runspider -a tag=health -a start_date=20180101 -a end_date=20180107 --logfile logs/20180101health20180107.log medium_scraper_tag_archive_TIME-TEST.py -o scraped_data/20180101health20180107_0.30000000000000004.json -s DOWNLOAD_DELAY=0.30000000000000004\n",
      "['https://medium.com/tag/health/archive/2018/01/01', 'https://medium.com/tag/health/archive/2018/01/02', 'https://medium.com/tag/health/archive/2018/01/03', 'https://medium.com/tag/health/archive/2018/01/04', 'https://medium.com/tag/health/archive/2018/01/05', 'https://medium.com/tag/health/archive/2018/01/06', 'https://medium.com/tag/health/archive/2018/01/07']\n",
      "***** 92 articles on 20180101, 92 total articles so far ****\n",
      "***** 141 articles on 20180102, 233 total articles so far ****\n",
      "***** 159 articles on 20180103, 392 total articles so far ****\n",
      "***** 163 articles on 20180104, 555 total articles so far ****\n",
      "***** 103 articles on 20180106, 658 total articles so far ****\n",
      "***** 164 articles on 20180105, 822 total articles so far ****\n",
      "***** 76 articles on 20180107, 898 total articles so far ****\n",
      "334.6 seconds\n",
      "scrapy runspider -a tag=health -a start_date=20180101 -a end_date=20180107 --logfile logs/20180101health20180107.log medium_scraper_tag_archive_TIME-TEST.py -o scraped_data/20180101health20180107_0.4.json -s DOWNLOAD_DELAY=0.4\n",
      "['https://medium.com/tag/health/archive/2018/01/01', 'https://medium.com/tag/health/archive/2018/01/02', 'https://medium.com/tag/health/archive/2018/01/03', 'https://medium.com/tag/health/archive/2018/01/04', 'https://medium.com/tag/health/archive/2018/01/05', 'https://medium.com/tag/health/archive/2018/01/06', 'https://medium.com/tag/health/archive/2018/01/07']\n",
      "***** 92 articles on 20180101, 92 total articles so far ****\n",
      "***** 141 articles on 20180102, 233 total articles so far ****\n",
      "***** 159 articles on 20180103, 392 total articles so far ****\n",
      "***** 164 articles on 20180105, 556 total articles so far ****\n",
      "***** 76 articles on 20180107, 632 total articles so far ****\n",
      "***** 163 articles on 20180104, 795 total articles so far ****\n",
      "***** 103 articles on 20180106, 898 total articles so far ****\n",
      "444.56 seconds\n",
      "scrapy runspider -a tag=health -a start_date=20180101 -a end_date=20180107 --logfile logs/20180101health20180107.log medium_scraper_tag_archive_TIME-TEST.py -o scraped_data/20180101health20180107_0.5.json -s DOWNLOAD_DELAY=0.5\n",
      "['https://medium.com/tag/health/archive/2018/01/01', 'https://medium.com/tag/health/archive/2018/01/02', 'https://medium.com/tag/health/archive/2018/01/03', 'https://medium.com/tag/health/archive/2018/01/04', 'https://medium.com/tag/health/archive/2018/01/05', 'https://medium.com/tag/health/archive/2018/01/06', 'https://medium.com/tag/health/archive/2018/01/07']\n",
      "***** 92 articles on 20180101, 92 total articles so far ****\n",
      "***** 159 articles on 20180103, 251 total articles so far ****\n",
      "***** 103 articles on 20180106, 354 total articles so far ****\n",
      "***** 164 articles on 20180105, 518 total articles so far ****\n",
      "***** 141 articles on 20180102, 659 total articles so far ****\n",
      "***** 76 articles on 20180107, 735 total articles so far ****\n",
      "***** 163 articles on 20180104, 898 total articles so far ****\n",
      "560.53 seconds\n",
      "scrapy runspider -a tag=health -a start_date=20180101 -a end_date=20180107 --logfile logs/20180101health20180107.log medium_scraper_tag_archive_TIME-TEST.py -o scraped_data/20180101health20180107_0.6000000000000001.json -s DOWNLOAD_DELAY=0.6000000000000001\n",
      "['https://medium.com/tag/health/archive/2018/01/01', 'https://medium.com/tag/health/archive/2018/01/02', 'https://medium.com/tag/health/archive/2018/01/03', 'https://medium.com/tag/health/archive/2018/01/04', 'https://medium.com/tag/health/archive/2018/01/05', 'https://medium.com/tag/health/archive/2018/01/06', 'https://medium.com/tag/health/archive/2018/01/07']\n",
      "***** 92 articles on 20180101, 92 total articles so far ****\n",
      "***** 141 articles on 20180102, 233 total articles so far ****\n",
      "***** 159 articles on 20180103, 392 total articles so far ****\n",
      "***** 163 articles on 20180104, 555 total articles so far ****\n",
      "***** 103 articles on 20180106, 658 total articles so far ****\n",
      "***** 76 articles on 20180107, 734 total articles so far ****\n",
      "***** 164 articles on 20180105, 898 total articles so far ****\n",
      "663.12 seconds\n",
      "scrapy runspider -a tag=health -a start_date=20180101 -a end_date=20180107 --logfile logs/20180101health20180107.log medium_scraper_tag_archive_TIME-TEST.py -o scraped_data/20180101health20180107_0.7000000000000001.json -s DOWNLOAD_DELAY=0.7000000000000001\n",
      "['https://medium.com/tag/health/archive/2018/01/01', 'https://medium.com/tag/health/archive/2018/01/02', 'https://medium.com/tag/health/archive/2018/01/03', 'https://medium.com/tag/health/archive/2018/01/04', 'https://medium.com/tag/health/archive/2018/01/05', 'https://medium.com/tag/health/archive/2018/01/06', 'https://medium.com/tag/health/archive/2018/01/07']\n",
      "***** 92 articles on 20180101, 92 total articles so far ****\n",
      "***** 141 articles on 20180102, 233 total articles so far ****\n",
      "***** 159 articles on 20180103, 392 total articles so far ****\n",
      "***** 163 articles on 20180104, 555 total articles so far ****\n"
     ]
    },
    {
     "name": "stdout",
     "output_type": "stream",
     "text": [
      "***** 164 articles on 20180105, 719 total articles so far ****\n",
      "***** 103 articles on 20180106, 822 total articles so far ****\n",
      "***** 76 articles on 20180107, 898 total articles so far ****\n",
      "813.56 seconds\n",
      "scrapy runspider -a tag=health -a start_date=20180101 -a end_date=20180107 --logfile logs/20180101health20180107.log medium_scraper_tag_archive_TIME-TEST.py -o scraped_data/20180101health20180107_0.8.json -s DOWNLOAD_DELAY=0.8\n",
      "['https://medium.com/tag/health/archive/2018/01/01', 'https://medium.com/tag/health/archive/2018/01/02', 'https://medium.com/tag/health/archive/2018/01/03', 'https://medium.com/tag/health/archive/2018/01/04', 'https://medium.com/tag/health/archive/2018/01/05', 'https://medium.com/tag/health/archive/2018/01/06', 'https://medium.com/tag/health/archive/2018/01/07']\n",
      "***** 92 articles on 20180101, 92 total articles so far ****\n",
      "***** 141 articles on 20180102, 233 total articles so far ****\n",
      "***** 159 articles on 20180103, 392 total articles so far ****\n",
      "***** 163 articles on 20180104, 555 total articles so far ****\n",
      "***** 164 articles on 20180105, 719 total articles so far ****\n",
      "***** 76 articles on 20180107, 795 total articles so far ****\n",
      "***** 103 articles on 20180106, 898 total articles so far ****\n",
      "887.5 seconds\n",
      "scrapy runspider -a tag=health -a start_date=20180101 -a end_date=20180107 --logfile logs/20180101health20180107.log medium_scraper_tag_archive_TIME-TEST.py -o scraped_data/20180101health20180107_0.9.json -s DOWNLOAD_DELAY=0.9\n",
      "['https://medium.com/tag/health/archive/2018/01/01', 'https://medium.com/tag/health/archive/2018/01/02', 'https://medium.com/tag/health/archive/2018/01/03', 'https://medium.com/tag/health/archive/2018/01/04', 'https://medium.com/tag/health/archive/2018/01/05', 'https://medium.com/tag/health/archive/2018/01/06', 'https://medium.com/tag/health/archive/2018/01/07']\n",
      "***** 92 articles on 20180101, 92 total articles so far ****\n",
      "***** 141 articles on 20180102, 233 total articles so far ****\n",
      "***** 163 articles on 20180104, 396 total articles so far ****\n",
      "***** 164 articles on 20180105, 560 total articles so far ****\n",
      "***** 76 articles on 20180107, 636 total articles so far ****\n",
      "***** 159 articles on 20180103, 795 total articles so far ****\n",
      "***** 103 articles on 20180106, 898 total articles so far ****\n",
      "1007.02 seconds\n",
      "scrapy runspider -a tag=health -a start_date=20180101 -a end_date=20180107 --logfile logs/20180101health20180107.log medium_scraper_tag_archive_TIME-TEST.py -o scraped_data/20180101health20180107_1.0.json -s DOWNLOAD_DELAY=1.0\n",
      "['https://medium.com/tag/health/archive/2018/01/01', 'https://medium.com/tag/health/archive/2018/01/02', 'https://medium.com/tag/health/archive/2018/01/03', 'https://medium.com/tag/health/archive/2018/01/04', 'https://medium.com/tag/health/archive/2018/01/05', 'https://medium.com/tag/health/archive/2018/01/06', 'https://medium.com/tag/health/archive/2018/01/07']\n",
      "***** 92 articles on 20180101, 92 total articles so far ****\n",
      "***** 141 articles on 20180102, 233 total articles so far ****\n",
      "***** 159 articles on 20180103, 392 total articles so far ****\n",
      "***** 164 articles on 20180105, 556 total articles so far ****\n",
      "***** 103 articles on 20180106, 659 total articles so far ****\n",
      "***** 76 articles on 20180107, 735 total articles so far ****\n",
      "***** 163 articles on 20180104, 898 total articles so far ****\n",
      "1113.05 seconds\n"
     ]
    }
   ],
   "source": [
    "delays = np.linspace(0,1,11)\n",
    "list_runtimes = []\n",
    "list_n_articles=[]\n",
    "for delay in delays:\n",
    "    command, output_file = run_string(delay)\n",
    "    runtime = time_script(command)\n",
    "    n_articles = check_output(output_file)\n",
    "    \n",
    "    list_runtimes.append(runtime)\n",
    "    list_n_articles.append(n_articles)"
   ]
  },
  {
   "cell_type": "code",
   "execution_count": 47,
   "metadata": {},
   "outputs": [
    {
     "data": {
      "text/plain": [
       "[62.39,\n",
       " 133.38,\n",
       " 229.38,\n",
       " 334.6,\n",
       " 444.56,\n",
       " 560.53,\n",
       " 663.12,\n",
       " 813.56,\n",
       " 887.5,\n",
       " 1007.02,\n",
       " 1113.05]"
      ]
     },
     "execution_count": 47,
     "metadata": {},
     "output_type": "execute_result"
    }
   ],
   "source": [
    "list_runtimes"
   ]
  },
  {
   "cell_type": "code",
   "execution_count": 46,
   "metadata": {},
   "outputs": [
    {
     "data": {
      "text/plain": [
       "[446, 885, 894, 894, 894, 894, 894, 878, 894, 894, 894]"
      ]
     },
     "execution_count": 46,
     "metadata": {},
     "output_type": "execute_result"
    }
   ],
   "source": [
    "list_n_articles"
   ]
  },
  {
   "cell_type": "markdown",
   "metadata": {},
   "source": [
    "seems like by 0.2 we start getting the right number of articles...though some are missing at 0.7??"
   ]
  },
  {
   "cell_type": "markdown",
   "metadata": {},
   "source": [
    "## between 0 and 0.3"
   ]
  },
  {
   "cell_type": "code",
   "execution_count": 51,
   "metadata": {},
   "outputs": [
    {
     "data": {
      "text/plain": [
       "array([0.  , 0.03, 0.06, 0.09, 0.12, 0.15, 0.18, 0.21, 0.24, 0.27, 0.3 ])"
      ]
     },
     "execution_count": 51,
     "metadata": {},
     "output_type": "execute_result"
    }
   ],
   "source": [
    "np.linspace(0,0.3,11)"
   ]
  },
  {
   "cell_type": "code",
   "execution_count": 52,
   "metadata": {
    "scrolled": true
   },
   "outputs": [
    {
     "name": "stdout",
     "output_type": "stream",
     "text": [
      "scrapy runspider -a tag=health -a start_date=20180101 -a end_date=20180107 --logfile logs/20180101health20180107.log medium_scraper_tag_archive_TIME-TEST.py -o scraped_data/20180101health20180107_0.0.json -s DOWNLOAD_DELAY=0.0\n",
      "['https://medium.com/tag/health/archive/2018/01/01', 'https://medium.com/tag/health/archive/2018/01/02', 'https://medium.com/tag/health/archive/2018/01/03', 'https://medium.com/tag/health/archive/2018/01/04', 'https://medium.com/tag/health/archive/2018/01/05', 'https://medium.com/tag/health/archive/2018/01/06', 'https://medium.com/tag/health/archive/2018/01/07']\n",
      "***** 76 articles on 20180107, 76 total articles so far ****\n",
      "***** 92 articles on 20180101, 168 total articles so far ****\n",
      "***** 159 articles on 20180103, 327 total articles so far ****\n",
      "***** 103 articles on 20180106, 430 total articles so far ****\n",
      "***** 163 articles on 20180104, 593 total articles so far ****\n",
      "***** 164 articles on 20180105, 757 total articles so far ****\n",
      "***** 141 articles on 20180102, 898 total articles so far ****\n",
      "69.89 seconds\n",
      "scrapy runspider -a tag=health -a start_date=20180101 -a end_date=20180107 --logfile logs/20180101health20180107.log medium_scraper_tag_archive_TIME-TEST.py -o scraped_data/20180101health20180107_0.03.json -s DOWNLOAD_DELAY=0.03\n",
      "['https://medium.com/tag/health/archive/2018/01/01', 'https://medium.com/tag/health/archive/2018/01/02', 'https://medium.com/tag/health/archive/2018/01/03', 'https://medium.com/tag/health/archive/2018/01/04', 'https://medium.com/tag/health/archive/2018/01/05', 'https://medium.com/tag/health/archive/2018/01/06', 'https://medium.com/tag/health/archive/2018/01/07']\n",
      "***** 92 articles on 20180101, 92 total articles so far ****\n",
      "***** 103 articles on 20180106, 195 total articles so far ****\n",
      "***** 76 articles on 20180107, 271 total articles so far ****\n",
      "***** 141 articles on 20180102, 412 total articles so far ****\n",
      "***** 164 articles on 20180105, 576 total articles so far ****\n",
      "***** 159 articles on 20180103, 735 total articles so far ****\n",
      "***** 163 articles on 20180104, 898 total articles so far ****\n",
      "83.55 seconds\n",
      "scrapy runspider -a tag=health -a start_date=20180101 -a end_date=20180107 --logfile logs/20180101health20180107.log medium_scraper_tag_archive_TIME-TEST.py -o scraped_data/20180101health20180107_0.06.json -s DOWNLOAD_DELAY=0.06\n",
      "['https://medium.com/tag/health/archive/2018/01/01', 'https://medium.com/tag/health/archive/2018/01/02', 'https://medium.com/tag/health/archive/2018/01/03', 'https://medium.com/tag/health/archive/2018/01/04', 'https://medium.com/tag/health/archive/2018/01/05', 'https://medium.com/tag/health/archive/2018/01/06', 'https://medium.com/tag/health/archive/2018/01/07']\n",
      "***** 76 articles on 20180107, 76 total articles so far ****\n",
      "***** 103 articles on 20180106, 179 total articles so far ****\n",
      "***** 92 articles on 20180101, 271 total articles so far ****\n",
      "***** 141 articles on 20180102, 412 total articles so far ****\n",
      "***** 159 articles on 20180103, 571 total articles so far ****\n",
      "***** 164 articles on 20180105, 735 total articles so far ****\n",
      "***** 163 articles on 20180104, 898 total articles so far ****\n",
      "126.82 seconds\n",
      "scrapy runspider -a tag=health -a start_date=20180101 -a end_date=20180107 --logfile logs/20180101health20180107.log medium_scraper_tag_archive_TIME-TEST.py -o scraped_data/20180101health20180107_0.09.json -s DOWNLOAD_DELAY=0.09\n",
      "['https://medium.com/tag/health/archive/2018/01/01', 'https://medium.com/tag/health/archive/2018/01/02', 'https://medium.com/tag/health/archive/2018/01/03', 'https://medium.com/tag/health/archive/2018/01/04', 'https://medium.com/tag/health/archive/2018/01/05', 'https://medium.com/tag/health/archive/2018/01/06', 'https://medium.com/tag/health/archive/2018/01/07']\n",
      "***** 76 articles on 20180107, 76 total articles so far ****\n",
      "***** 103 articles on 20180106, 179 total articles so far ****\n",
      "***** 141 articles on 20180102, 320 total articles so far ****\n",
      "***** 92 articles on 20180101, 412 total articles so far ****\n",
      "***** 159 articles on 20180103, 571 total articles so far ****\n",
      "***** 163 articles on 20180104, 734 total articles so far ****\n",
      "***** 164 articles on 20180105, 898 total articles so far ****\n",
      "134.54 seconds\n",
      "scrapy runspider -a tag=health -a start_date=20180101 -a end_date=20180107 --logfile logs/20180101health20180107.log medium_scraper_tag_archive_TIME-TEST.py -o scraped_data/20180101health20180107_0.12.json -s DOWNLOAD_DELAY=0.12\n",
      "['https://medium.com/tag/health/archive/2018/01/01', 'https://medium.com/tag/health/archive/2018/01/02', 'https://medium.com/tag/health/archive/2018/01/03', 'https://medium.com/tag/health/archive/2018/01/04', 'https://medium.com/tag/health/archive/2018/01/05', 'https://medium.com/tag/health/archive/2018/01/06', 'https://medium.com/tag/health/archive/2018/01/07']\n",
      "***** 92 articles on 20180101, 92 total articles so far ****\n",
      "***** 141 articles on 20180102, 233 total articles so far ****\n",
      "***** 103 articles on 20180106, 336 total articles so far ****\n",
      "***** 159 articles on 20180103, 495 total articles so far ****\n",
      "***** 76 articles on 20180107, 571 total articles so far ****\n",
      "***** 164 articles on 20180105, 735 total articles so far ****\n",
      "***** 163 articles on 20180104, 898 total articles so far ****\n",
      "136.18 seconds\n",
      "scrapy runspider -a tag=health -a start_date=20180101 -a end_date=20180107 --logfile logs/20180101health20180107.log medium_scraper_tag_archive_TIME-TEST.py -o scraped_data/20180101health20180107_0.15.json -s DOWNLOAD_DELAY=0.15\n",
      "['https://medium.com/tag/health/archive/2018/01/01', 'https://medium.com/tag/health/archive/2018/01/02', 'https://medium.com/tag/health/archive/2018/01/03', 'https://medium.com/tag/health/archive/2018/01/04', 'https://medium.com/tag/health/archive/2018/01/05', 'https://medium.com/tag/health/archive/2018/01/06', 'https://medium.com/tag/health/archive/2018/01/07']\n",
      "***** 92 articles on 20180101, 92 total articles so far ****\n",
      "***** 76 articles on 20180107, 168 total articles so far ****\n",
      "***** 141 articles on 20180102, 309 total articles so far ****\n",
      "***** 103 articles on 20180106, 412 total articles so far ****\n",
      "***** 159 articles on 20180103, 571 total articles so far ****\n",
      "***** 164 articles on 20180105, 735 total articles so far ****\n",
      "***** 163 articles on 20180104, 898 total articles so far ****\n",
      "169.59 seconds\n",
      "scrapy runspider -a tag=health -a start_date=20180101 -a end_date=20180107 --logfile logs/20180101health20180107.log medium_scraper_tag_archive_TIME-TEST.py -o scraped_data/20180101health20180107_0.18.json -s DOWNLOAD_DELAY=0.18\n",
      "['https://medium.com/tag/health/archive/2018/01/01', 'https://medium.com/tag/health/archive/2018/01/02', 'https://medium.com/tag/health/archive/2018/01/03', 'https://medium.com/tag/health/archive/2018/01/04', 'https://medium.com/tag/health/archive/2018/01/05', 'https://medium.com/tag/health/archive/2018/01/06', 'https://medium.com/tag/health/archive/2018/01/07']\n",
      "***** 92 articles on 20180101, 92 total articles so far ****\n",
      "***** 76 articles on 20180107, 168 total articles so far ****\n",
      "***** 141 articles on 20180102, 309 total articles so far ****\n",
      "***** 159 articles on 20180103, 468 total articles so far ****\n",
      "***** 103 articles on 20180106, 571 total articles so far ****\n",
      "***** 163 articles on 20180104, 734 total articles so far ****\n",
      "***** 164 articles on 20180105, 898 total articles so far ****\n",
      "202.62 seconds\n",
      "scrapy runspider -a tag=health -a start_date=20180101 -a end_date=20180107 --logfile logs/20180101health20180107.log medium_scraper_tag_archive_TIME-TEST.py -o scraped_data/20180101health20180107_0.21.json -s DOWNLOAD_DELAY=0.21\n",
      "['https://medium.com/tag/health/archive/2018/01/01', 'https://medium.com/tag/health/archive/2018/01/02', 'https://medium.com/tag/health/archive/2018/01/03', 'https://medium.com/tag/health/archive/2018/01/04', 'https://medium.com/tag/health/archive/2018/01/05', 'https://medium.com/tag/health/archive/2018/01/06', 'https://medium.com/tag/health/archive/2018/01/07']\n",
      "***** 92 articles on 20180101, 92 total articles so far ****\n",
      "***** 141 articles on 20180102, 233 total articles so far ****\n",
      "***** 76 articles on 20180107, 309 total articles so far ****\n",
      "***** 103 articles on 20180106, 412 total articles so far ****\n",
      "***** 163 articles on 20180104, 575 total articles so far ****\n"
     ]
    },
    {
     "name": "stdout",
     "output_type": "stream",
     "text": [
      "***** 159 articles on 20180103, 734 total articles so far ****\n",
      "***** 164 articles on 20180105, 898 total articles so far ****\n",
      "234.38 seconds\n",
      "scrapy runspider -a tag=health -a start_date=20180101 -a end_date=20180107 --logfile logs/20180101health20180107.log medium_scraper_tag_archive_TIME-TEST.py -o scraped_data/20180101health20180107_0.24.json -s DOWNLOAD_DELAY=0.24\n",
      "['https://medium.com/tag/health/archive/2018/01/01', 'https://medium.com/tag/health/archive/2018/01/02', 'https://medium.com/tag/health/archive/2018/01/03', 'https://medium.com/tag/health/archive/2018/01/04', 'https://medium.com/tag/health/archive/2018/01/05', 'https://medium.com/tag/health/archive/2018/01/06', 'https://medium.com/tag/health/archive/2018/01/07']\n",
      "***** 92 articles on 20180101, 92 total articles so far ****\n",
      "***** 141 articles on 20180102, 233 total articles so far ****\n",
      "***** 76 articles on 20180107, 309 total articles so far ****\n",
      "***** 103 articles on 20180106, 412 total articles so far ****\n",
      "***** 159 articles on 20180103, 571 total articles so far ****\n",
      "***** 164 articles on 20180105, 735 total articles so far ****\n",
      "***** 163 articles on 20180104, 898 total articles so far ****\n",
      "267.74 seconds\n",
      "scrapy runspider -a tag=health -a start_date=20180101 -a end_date=20180107 --logfile logs/20180101health20180107.log medium_scraper_tag_archive_TIME-TEST.py -o scraped_data/20180101health20180107_0.27.json -s DOWNLOAD_DELAY=0.27\n",
      "['https://medium.com/tag/health/archive/2018/01/01', 'https://medium.com/tag/health/archive/2018/01/02', 'https://medium.com/tag/health/archive/2018/01/03', 'https://medium.com/tag/health/archive/2018/01/04', 'https://medium.com/tag/health/archive/2018/01/05', 'https://medium.com/tag/health/archive/2018/01/06', 'https://medium.com/tag/health/archive/2018/01/07']\n",
      "***** 159 articles on 20180103, 159 total articles so far ****\n",
      "***** 76 articles on 20180107, 235 total articles so far ****\n",
      "***** 103 articles on 20180106, 338 total articles so far ****\n",
      "***** 92 articles on 20180101, 430 total articles so far ****\n",
      "***** 163 articles on 20180104, 593 total articles so far ****\n",
      "***** 164 articles on 20180105, 757 total articles so far ****\n",
      "***** 141 articles on 20180102, 898 total articles so far ****\n",
      "305.52 seconds\n",
      "scrapy runspider -a tag=health -a start_date=20180101 -a end_date=20180107 --logfile logs/20180101health20180107.log medium_scraper_tag_archive_TIME-TEST.py -o scraped_data/20180101health20180107_0.3.json -s DOWNLOAD_DELAY=0.3\n",
      "['https://medium.com/tag/health/archive/2018/01/01', 'https://medium.com/tag/health/archive/2018/01/02', 'https://medium.com/tag/health/archive/2018/01/03', 'https://medium.com/tag/health/archive/2018/01/04', 'https://medium.com/tag/health/archive/2018/01/05', 'https://medium.com/tag/health/archive/2018/01/06', 'https://medium.com/tag/health/archive/2018/01/07']\n",
      "***** 92 articles on 20180101, 92 total articles so far ****\n",
      "***** 159 articles on 20180103, 251 total articles so far ****\n",
      "***** 164 articles on 20180105, 415 total articles so far ****\n",
      "***** 76 articles on 20180107, 491 total articles so far ****\n",
      "***** 163 articles on 20180104, 654 total articles so far ****\n",
      "***** 103 articles on 20180106, 757 total articles so far ****\n",
      "***** 141 articles on 20180102, 898 total articles so far ****\n",
      "332.74 seconds\n"
     ]
    }
   ],
   "source": [
    "delays = np.linspace(0,0.3,11)\n",
    "list_runtimes = []\n",
    "list_n_articles=[]\n",
    "for delay in delays:\n",
    "    command, output_file = run_string(delay)\n",
    "    runtime = time_script(command)\n",
    "    n_articles = check_output(output_file)\n",
    "    \n",
    "    list_runtimes.append(runtime)\n",
    "    list_n_articles.append(n_articles)"
   ]
  },
  {
   "cell_type": "code",
   "execution_count": 53,
   "metadata": {},
   "outputs": [
    {
     "data": {
      "text/plain": [
       "[483, 533, 727, 858, 894, 894, 894, 894, 894, 894, 894]"
      ]
     },
     "execution_count": 53,
     "metadata": {},
     "output_type": "execute_result"
    }
   ],
   "source": [
    "list_n_articles"
   ]
  },
  {
   "cell_type": "code",
   "execution_count": 54,
   "metadata": {},
   "outputs": [
    {
     "data": {
      "text/plain": [
       "[69.89,\n",
       " 83.55,\n",
       " 126.82,\n",
       " 134.54,\n",
       " 136.18,\n",
       " 169.59,\n",
       " 202.62,\n",
       " 234.38,\n",
       " 267.74,\n",
       " 305.52,\n",
       " 332.74]"
      ]
     },
     "execution_count": 54,
     "metadata": {},
     "output_type": "execute_result"
    }
   ],
   "source": [
    "list_runtimes"
   ]
  },
  {
   "cell_type": "markdown",
   "metadata": {},
   "source": [
    "seems like by 0.12 we have the right number of articles"
   ]
  },
  {
   "cell_type": "markdown",
   "metadata": {},
   "source": [
    "## between 0.1 and 0.15 "
   ]
  },
  {
   "cell_type": "code",
   "execution_count": 55,
   "metadata": {},
   "outputs": [
    {
     "data": {
      "text/plain": [
       "array([0.1  , 0.105, 0.11 , 0.115, 0.12 , 0.125, 0.13 , 0.135, 0.14 ,\n",
       "       0.145, 0.15 ])"
      ]
     },
     "execution_count": 55,
     "metadata": {},
     "output_type": "execute_result"
    }
   ],
   "source": [
    "np.linspace(0.1,0.15,11)"
   ]
  },
  {
   "cell_type": "code",
   "execution_count": 56,
   "metadata": {},
   "outputs": [
    {
     "name": "stdout",
     "output_type": "stream",
     "text": [
      "scrapy runspider -a tag=health -a start_date=20180101 -a end_date=20180107 --logfile logs/20180101health20180107.log medium_scraper_tag_archive_TIME-TEST.py -o scraped_data/20180101health20180107_0.1.json -s DOWNLOAD_DELAY=0.1\n",
      "['https://medium.com/tag/health/archive/2018/01/01', 'https://medium.com/tag/health/archive/2018/01/02', 'https://medium.com/tag/health/archive/2018/01/03', 'https://medium.com/tag/health/archive/2018/01/04', 'https://medium.com/tag/health/archive/2018/01/05', 'https://medium.com/tag/health/archive/2018/01/06', 'https://medium.com/tag/health/archive/2018/01/07']\n",
      "***** 76 articles on 20180107, 76 total articles so far ****\n",
      "***** 141 articles on 20180102, 217 total articles so far ****\n",
      "***** 92 articles on 20180101, 309 total articles so far ****\n",
      "***** 159 articles on 20180103, 468 total articles so far ****\n",
      "***** 103 articles on 20180106, 571 total articles so far ****\n",
      "***** 164 articles on 20180105, 735 total articles so far ****\n",
      "***** 163 articles on 20180104, 898 total articles so far ****\n",
      "145.38 seconds\n",
      "scrapy runspider -a tag=health -a start_date=20180101 -a end_date=20180107 --logfile logs/20180101health20180107.log medium_scraper_tag_archive_TIME-TEST.py -o scraped_data/20180101health20180107_0.10500000000000001.json -s DOWNLOAD_DELAY=0.10500000000000001\n",
      "['https://medium.com/tag/health/archive/2018/01/01', 'https://medium.com/tag/health/archive/2018/01/02', 'https://medium.com/tag/health/archive/2018/01/03', 'https://medium.com/tag/health/archive/2018/01/04', 'https://medium.com/tag/health/archive/2018/01/05', 'https://medium.com/tag/health/archive/2018/01/06', 'https://medium.com/tag/health/archive/2018/01/07']\n",
      "***** 92 articles on 20180101, 92 total articles so far ****\n",
      "***** 76 articles on 20180107, 168 total articles so far ****\n",
      "***** 103 articles on 20180106, 271 total articles so far ****\n",
      "***** 141 articles on 20180102, 412 total articles so far ****\n",
      "***** 159 articles on 20180103, 571 total articles so far ****\n",
      "***** 164 articles on 20180105, 735 total articles so far ****\n",
      "***** 163 articles on 20180104, 898 total articles so far ****\n",
      "136.48 seconds\n",
      "scrapy runspider -a tag=health -a start_date=20180101 -a end_date=20180107 --logfile logs/20180101health20180107.log medium_scraper_tag_archive_TIME-TEST.py -o scraped_data/20180101health20180107_0.11.json -s DOWNLOAD_DELAY=0.11\n",
      "['https://medium.com/tag/health/archive/2018/01/01', 'https://medium.com/tag/health/archive/2018/01/02', 'https://medium.com/tag/health/archive/2018/01/03', 'https://medium.com/tag/health/archive/2018/01/04', 'https://medium.com/tag/health/archive/2018/01/05', 'https://medium.com/tag/health/archive/2018/01/06', 'https://medium.com/tag/health/archive/2018/01/07']\n",
      "***** 92 articles on 20180101, 92 total articles so far ****\n",
      "***** 164 articles on 20180105, 256 total articles so far ****\n",
      "***** 76 articles on 20180107, 332 total articles so far ****\n",
      "***** 141 articles on 20180102, 473 total articles so far ****\n",
      "***** 103 articles on 20180106, 576 total articles so far ****\n",
      "***** 159 articles on 20180103, 735 total articles so far ****\n",
      "***** 163 articles on 20180104, 898 total articles so far ****\n",
      "158.59 seconds\n",
      "scrapy runspider -a tag=health -a start_date=20180101 -a end_date=20180107 --logfile logs/20180101health20180107.log medium_scraper_tag_archive_TIME-TEST.py -o scraped_data/20180101health20180107_0.115.json -s DOWNLOAD_DELAY=0.115\n",
      "['https://medium.com/tag/health/archive/2018/01/01', 'https://medium.com/tag/health/archive/2018/01/02', 'https://medium.com/tag/health/archive/2018/01/03', 'https://medium.com/tag/health/archive/2018/01/04', 'https://medium.com/tag/health/archive/2018/01/05', 'https://medium.com/tag/health/archive/2018/01/06', 'https://medium.com/tag/health/archive/2018/01/07']\n",
      "***** 92 articles on 20180101, 92 total articles so far ****\n",
      "***** 141 articles on 20180102, 233 total articles so far ****\n",
      "***** 76 articles on 20180107, 309 total articles so far ****\n",
      "***** 103 articles on 20180106, 412 total articles so far ****\n",
      "***** 159 articles on 20180103, 571 total articles so far ****\n",
      "***** 163 articles on 20180104, 734 total articles so far ****\n",
      "***** 164 articles on 20180105, 898 total articles so far ****\n",
      "184.12 seconds\n",
      "scrapy runspider -a tag=health -a start_date=20180101 -a end_date=20180107 --logfile logs/20180101health20180107.log medium_scraper_tag_archive_TIME-TEST.py -o scraped_data/20180101health20180107_0.12.json -s DOWNLOAD_DELAY=0.12\n",
      "['https://medium.com/tag/health/archive/2018/01/01', 'https://medium.com/tag/health/archive/2018/01/02', 'https://medium.com/tag/health/archive/2018/01/03', 'https://medium.com/tag/health/archive/2018/01/04', 'https://medium.com/tag/health/archive/2018/01/05', 'https://medium.com/tag/health/archive/2018/01/06', 'https://medium.com/tag/health/archive/2018/01/07']\n",
      "***** 92 articles on 20180101, 92 total articles so far ****\n",
      "***** 76 articles on 20180107, 168 total articles so far ****\n",
      "***** 103 articles on 20180106, 271 total articles so far ****\n",
      "***** 141 articles on 20180102, 412 total articles so far ****\n",
      "***** 159 articles on 20180103, 571 total articles so far ****\n",
      "***** 164 articles on 20180105, 735 total articles so far ****\n",
      "***** 163 articles on 20180104, 898 total articles so far ****\n",
      "141.78 seconds\n",
      "scrapy runspider -a tag=health -a start_date=20180101 -a end_date=20180107 --logfile logs/20180101health20180107.log medium_scraper_tag_archive_TIME-TEST.py -o scraped_data/20180101health20180107_0.125.json -s DOWNLOAD_DELAY=0.125\n",
      "['https://medium.com/tag/health/archive/2018/01/01', 'https://medium.com/tag/health/archive/2018/01/02', 'https://medium.com/tag/health/archive/2018/01/03', 'https://medium.com/tag/health/archive/2018/01/04', 'https://medium.com/tag/health/archive/2018/01/05', 'https://medium.com/tag/health/archive/2018/01/06', 'https://medium.com/tag/health/archive/2018/01/07']\n",
      "***** 92 articles on 20180101, 92 total articles so far ****\n",
      "***** 76 articles on 20180107, 168 total articles so far ****\n",
      "***** 103 articles on 20180106, 271 total articles so far ****\n",
      "***** 141 articles on 20180102, 412 total articles so far ****\n",
      "***** 163 articles on 20180104, 575 total articles so far ****\n",
      "***** 164 articles on 20180105, 739 total articles so far ****\n",
      "***** 159 articles on 20180103, 898 total articles so far ****\n",
      "145.01 seconds\n",
      "scrapy runspider -a tag=health -a start_date=20180101 -a end_date=20180107 --logfile logs/20180101health20180107.log medium_scraper_tag_archive_TIME-TEST.py -o scraped_data/20180101health20180107_0.13.json -s DOWNLOAD_DELAY=0.13\n",
      "['https://medium.com/tag/health/archive/2018/01/01', 'https://medium.com/tag/health/archive/2018/01/02', 'https://medium.com/tag/health/archive/2018/01/03', 'https://medium.com/tag/health/archive/2018/01/04', 'https://medium.com/tag/health/archive/2018/01/05', 'https://medium.com/tag/health/archive/2018/01/06', 'https://medium.com/tag/health/archive/2018/01/07']\n",
      "***** 92 articles on 20180101, 92 total articles so far ****\n",
      "***** 103 articles on 20180106, 195 total articles so far ****\n",
      "***** 159 articles on 20180103, 354 total articles so far ****\n",
      "***** 141 articles on 20180102, 495 total articles so far ****\n",
      "***** 76 articles on 20180107, 571 total articles so far ****\n",
      "***** 164 articles on 20180105, 735 total articles so far ****\n",
      "***** 163 articles on 20180104, 898 total articles so far ****\n",
      "150.2 seconds\n",
      "scrapy runspider -a tag=health -a start_date=20180101 -a end_date=20180107 --logfile logs/20180101health20180107.log medium_scraper_tag_archive_TIME-TEST.py -o scraped_data/20180101health20180107_0.135.json -s DOWNLOAD_DELAY=0.135\n",
      "['https://medium.com/tag/health/archive/2018/01/01', 'https://medium.com/tag/health/archive/2018/01/02', 'https://medium.com/tag/health/archive/2018/01/03', 'https://medium.com/tag/health/archive/2018/01/04', 'https://medium.com/tag/health/archive/2018/01/05', 'https://medium.com/tag/health/archive/2018/01/06', 'https://medium.com/tag/health/archive/2018/01/07']\n",
      "***** 92 articles on 20180101, 92 total articles so far ****\n",
      "***** 76 articles on 20180107, 168 total articles so far ****\n",
      "***** 141 articles on 20180102, 309 total articles so far ****\n",
      "***** 103 articles on 20180106, 412 total articles so far ****\n"
     ]
    },
    {
     "name": "stdout",
     "output_type": "stream",
     "text": [
      "***** 159 articles on 20180103, 571 total articles so far ****\n",
      "***** 164 articles on 20180105, 735 total articles so far ****\n",
      "***** 163 articles on 20180104, 898 total articles so far ****\n",
      "154.05 seconds\n",
      "scrapy runspider -a tag=health -a start_date=20180101 -a end_date=20180107 --logfile logs/20180101health20180107.log medium_scraper_tag_archive_TIME-TEST.py -o scraped_data/20180101health20180107_0.14.json -s DOWNLOAD_DELAY=0.14\n",
      "['https://medium.com/tag/health/archive/2018/01/01', 'https://medium.com/tag/health/archive/2018/01/02', 'https://medium.com/tag/health/archive/2018/01/03', 'https://medium.com/tag/health/archive/2018/01/04', 'https://medium.com/tag/health/archive/2018/01/05', 'https://medium.com/tag/health/archive/2018/01/06', 'https://medium.com/tag/health/archive/2018/01/07']\n",
      "***** 92 articles on 20180101, 92 total articles so far ****\n",
      "***** 76 articles on 20180107, 168 total articles so far ****\n",
      "***** 141 articles on 20180102, 309 total articles so far ****\n",
      "***** 103 articles on 20180106, 412 total articles so far ****\n",
      "***** 159 articles on 20180103, 571 total articles so far ****\n",
      "***** 164 articles on 20180105, 735 total articles so far ****\n",
      "***** 163 articles on 20180104, 898 total articles so far ****\n",
      "168.16 seconds\n",
      "scrapy runspider -a tag=health -a start_date=20180101 -a end_date=20180107 --logfile logs/20180101health20180107.log medium_scraper_tag_archive_TIME-TEST.py -o scraped_data/20180101health20180107_0.145.json -s DOWNLOAD_DELAY=0.145\n",
      "['https://medium.com/tag/health/archive/2018/01/01', 'https://medium.com/tag/health/archive/2018/01/02', 'https://medium.com/tag/health/archive/2018/01/03', 'https://medium.com/tag/health/archive/2018/01/04', 'https://medium.com/tag/health/archive/2018/01/05', 'https://medium.com/tag/health/archive/2018/01/06', 'https://medium.com/tag/health/archive/2018/01/07']\n",
      "***** 92 articles on 20180101, 92 total articles so far ****\n",
      "***** 159 articles on 20180103, 251 total articles so far ****\n",
      "***** 141 articles on 20180102, 392 total articles so far ****\n",
      "***** 76 articles on 20180107, 468 total articles so far ****\n",
      "***** 103 articles on 20180106, 571 total articles so far ****\n",
      "***** 164 articles on 20180105, 735 total articles so far ****\n",
      "***** 163 articles on 20180104, 898 total articles so far ****\n",
      "165.49 seconds\n",
      "scrapy runspider -a tag=health -a start_date=20180101 -a end_date=20180107 --logfile logs/20180101health20180107.log medium_scraper_tag_archive_TIME-TEST.py -o scraped_data/20180101health20180107_0.15.json -s DOWNLOAD_DELAY=0.15\n",
      "['https://medium.com/tag/health/archive/2018/01/01', 'https://medium.com/tag/health/archive/2018/01/02', 'https://medium.com/tag/health/archive/2018/01/03', 'https://medium.com/tag/health/archive/2018/01/04', 'https://medium.com/tag/health/archive/2018/01/05', 'https://medium.com/tag/health/archive/2018/01/06', 'https://medium.com/tag/health/archive/2018/01/07']\n",
      "***** 92 articles on 20180101, 92 total articles so far ****\n",
      "***** 103 articles on 20180106, 195 total articles so far ****\n",
      "***** 76 articles on 20180107, 271 total articles so far ****\n",
      "***** 164 articles on 20180105, 435 total articles so far ****\n",
      "***** 141 articles on 20180102, 576 total articles so far ****\n",
      "***** 163 articles on 20180104, 739 total articles so far ****\n",
      "***** 159 articles on 20180103, 898 total articles so far ****\n",
      "169.29 seconds\n"
     ]
    }
   ],
   "source": [
    "delays = np.linspace(0.1,0.15,11)\n",
    "list_runtimes = []\n",
    "list_n_articles=[]\n",
    "for delay in delays:\n",
    "    command, output_file = run_string(delay)\n",
    "    runtime = time_script(command)\n",
    "    n_articles = check_output(output_file)\n",
    "    \n",
    "    list_runtimes.append(runtime)\n",
    "    list_n_articles.append(n_articles)"
   ]
  },
  {
   "cell_type": "code",
   "execution_count": 57,
   "metadata": {},
   "outputs": [
    {
     "data": {
      "text/plain": [
       "[877, 883, 874, 870, 892, 894, 894, 894, 893, 894, 894]"
      ]
     },
     "execution_count": 57,
     "metadata": {},
     "output_type": "execute_result"
    }
   ],
   "source": [
    "list_n_articles"
   ]
  },
  {
   "cell_type": "code",
   "execution_count": 58,
   "metadata": {},
   "outputs": [
    {
     "data": {
      "text/plain": [
       "[145.38,\n",
       " 136.48,\n",
       " 158.59,\n",
       " 184.12,\n",
       " 141.78,\n",
       " 145.01,\n",
       " 150.2,\n",
       " 154.05,\n",
       " 168.16,\n",
       " 165.49,\n",
       " 169.29]"
      ]
     },
     "execution_count": 58,
     "metadata": {},
     "output_type": "execute_result"
    }
   ],
   "source": [
    "list_runtimes"
   ]
  },
  {
   "cell_type": "markdown",
   "metadata": {},
   "source": [
    "seems like by 0.125 we have the right number of articles"
   ]
  },
  {
   "cell_type": "markdown",
   "metadata": {},
   "source": [
    "something to keep in mind is that the true delay is a random amount of time (between 0.5 * `DOWNLOAD_DELAY` and 1.5 * DOWNLOAD_DELAY), so in some fraction of requests, the delay will still be too short and we will get failed requests. we can use a longer scrape to get more statistics"
   ]
  },
  {
   "cell_type": "markdown",
   "metadata": {},
   "source": [
    "## try a longer scrape: 1 month"
   ]
  },
  {
   "cell_type": "code",
   "execution_count": 62,
   "metadata": {},
   "outputs": [],
   "source": [
    "def run_string(delay):\n",
    "    start_date = '20180101'\n",
    "    end_date = '20180201'\n",
    "    tag = 'health'\n",
    "\n",
    "    scrapper_file = 'medium_scraper_tag_archive_TIME-TEST.py'\n",
    "    log_file = 'logs/'+start_date+tag+end_date+'_{0}.log'.format(delay)\n",
    "\n",
    "    output_dir = 'scraped_data/'\n",
    "    output_file = output_dir+start_date+tag+end_date+'_{0}.json'.format(delay)\n",
    "    if os.path.exists(output_file):\n",
    "        os.remove(output_file)\n",
    "        \n",
    "    command = 'scrapy runspider -a tag={tag} -a start_date={start_date} -a end_date={end_date} --logfile {log_file} {scrapper_file} -o {output_file} -s DOWNLOAD_DELAY={delay}'.format(tag=tag,start_date=start_date,end_date=end_date,scrapper_file=scrapper_file,output_file=output_file, log_file = log_file, delay=delay)\n",
    "    print(command)\n",
    "    \n",
    "    return command, output_file\n"
   ]
  },
  {
   "cell_type": "code",
   "execution_count": 60,
   "metadata": {},
   "outputs": [
    {
     "name": "stdout",
     "output_type": "stream",
     "text": [
      "scrapy runspider -a tag=health -a start_date=20180101 -a end_date=20180201 --logfile logs/20180101health20180201.log medium_scraper_tag_archive_TIME-TEST.py -o scraped_data/20180101health20180201_0.13.json -s DOWNLOAD_DELAY=0.13\n",
      "['https://medium.com/tag/health/archive/2018/01/01', 'https://medium.com/tag/health/archive/2018/01/02', 'https://medium.com/tag/health/archive/2018/01/03', 'https://medium.com/tag/health/archive/2018/01/04', 'https://medium.com/tag/health/archive/2018/01/05', 'https://medium.com/tag/health/archive/2018/01/06', 'https://medium.com/tag/health/archive/2018/01/07', 'https://medium.com/tag/health/archive/2018/01/08', 'https://medium.com/tag/health/archive/2018/01/09', 'https://medium.com/tag/health/archive/2018/01/10', 'https://medium.com/tag/health/archive/2018/01/11', 'https://medium.com/tag/health/archive/2018/01/12', 'https://medium.com/tag/health/archive/2018/01/13', 'https://medium.com/tag/health/archive/2018/01/14', 'https://medium.com/tag/health/archive/2018/01/15', 'https://medium.com/tag/health/archive/2018/01/16', 'https://medium.com/tag/health/archive/2018/01/17', 'https://medium.com/tag/health/archive/2018/01/18', 'https://medium.com/tag/health/archive/2018/01/19', 'https://medium.com/tag/health/archive/2018/01/20', 'https://medium.com/tag/health/archive/2018/01/21', 'https://medium.com/tag/health/archive/2018/01/22', 'https://medium.com/tag/health/archive/2018/01/23', 'https://medium.com/tag/health/archive/2018/01/24', 'https://medium.com/tag/health/archive/2018/01/25', 'https://medium.com/tag/health/archive/2018/01/26', 'https://medium.com/tag/health/archive/2018/01/27', 'https://medium.com/tag/health/archive/2018/01/28', 'https://medium.com/tag/health/archive/2018/01/29', 'https://medium.com/tag/health/archive/2018/01/30', 'https://medium.com/tag/health/archive/2018/01/31', 'https://medium.com/tag/health/archive/2018/02/01']\n",
      "***** 164 articles on 20180105, 164 total articles so far ****\n",
      "***** 159 articles on 20180103, 323 total articles so far ****\n",
      "***** 163 articles on 20180104, 486 total articles so far ****\n",
      "***** 166 articles on 20180108, 652 total articles so far ****\n",
      "***** 167 articles on 20180111, 819 total articles so far ****\n",
      "***** 172 articles on 20180109, 991 total articles so far ****\n",
      "***** 172 articles on 20180110, 1163 total articles so far ****\n",
      "***** 90 articles on 20180113, 1253 total articles so far ****\n",
      "***** 79 articles on 20180114, 1332 total articles so far ****\n",
      "***** 156 articles on 20180112, 1488 total articles so far ****\n",
      "***** 140 articles on 20180115, 1628 total articles so far ****\n",
      "***** 161 articles on 20180117, 1789 total articles so far ****\n",
      "***** 171 articles on 20180116, 1960 total articles so far ****\n",
      "***** 92 articles on 20180101, 2052 total articles so far ****\n",
      "***** 103 articles on 20180106, 2155 total articles so far ****\n",
      "***** 76 articles on 20180107, 2231 total articles so far ****\n",
      "***** 141 articles on 20180102, 2372 total articles so far ****\n",
      "***** 163 articles on 20180119, 2535 total articles so far ****\n",
      "***** 91 articles on 20180121, 2626 total articles so far ****\n",
      "***** 160 articles on 20180118, 2786 total articles so far ****\n",
      "***** 165 articles on 20180122, 2951 total articles so far ****\n",
      "***** 132 articles on 20180126, 3083 total articles so far ****\n",
      "***** 161 articles on 20180125, 3244 total articles so far ****\n",
      "***** 173 articles on 20180123, 3417 total articles so far ****\n",
      "***** 88 articles on 20180128, 3505 total articles so far ****\n",
      "***** 109 articles on 20180120, 3614 total articles so far ****\n",
      "***** 154 articles on 20180129, 3768 total articles so far ****\n",
      "***** 171 articles on 20180131, 3939 total articles so far ****\n",
      "***** 173 articles on 20180130, 4112 total articles so far ****\n",
      "***** 163 articles on 20180201, 4275 total articles so far ****\n",
      "***** 156 articles on 20180124, 4431 total articles so far ****\n",
      "***** 117 articles on 20180127, 4548 total articles so far ****\n",
      "877.15 seconds\n",
      "877.15 seconds; 4495 articles\n"
     ]
    }
   ],
   "source": [
    "delay = 0.13\n",
    "\n",
    "command, output_file = run_string(delay)\n",
    "runtime = time_script(command)\n",
    "n_articles = check_output(output_file)\n",
    "\n",
    "print('{0} seconds; {1} articles'.format(runtime, n_articles))"
   ]
  },
  {
   "cell_type": "markdown",
   "metadata": {},
   "source": [
    "0.13 missed a few articles"
   ]
  },
  {
   "cell_type": "code",
   "execution_count": 61,
   "metadata": {},
   "outputs": [
    {
     "name": "stdout",
     "output_type": "stream",
     "text": [
      "scrapy runspider -a tag=health -a start_date=20180101 -a end_date=20180201 --logfile logs/20180101health20180201.log medium_scraper_tag_archive_TIME-TEST.py -o scraped_data/20180101health20180201_0.2.json -s DOWNLOAD_DELAY=0.2\n",
      "['https://medium.com/tag/health/archive/2018/01/01', 'https://medium.com/tag/health/archive/2018/01/02', 'https://medium.com/tag/health/archive/2018/01/03', 'https://medium.com/tag/health/archive/2018/01/04', 'https://medium.com/tag/health/archive/2018/01/05', 'https://medium.com/tag/health/archive/2018/01/06', 'https://medium.com/tag/health/archive/2018/01/07', 'https://medium.com/tag/health/archive/2018/01/08', 'https://medium.com/tag/health/archive/2018/01/09', 'https://medium.com/tag/health/archive/2018/01/10', 'https://medium.com/tag/health/archive/2018/01/11', 'https://medium.com/tag/health/archive/2018/01/12', 'https://medium.com/tag/health/archive/2018/01/13', 'https://medium.com/tag/health/archive/2018/01/14', 'https://medium.com/tag/health/archive/2018/01/15', 'https://medium.com/tag/health/archive/2018/01/16', 'https://medium.com/tag/health/archive/2018/01/17', 'https://medium.com/tag/health/archive/2018/01/18', 'https://medium.com/tag/health/archive/2018/01/19', 'https://medium.com/tag/health/archive/2018/01/20', 'https://medium.com/tag/health/archive/2018/01/21', 'https://medium.com/tag/health/archive/2018/01/22', 'https://medium.com/tag/health/archive/2018/01/23', 'https://medium.com/tag/health/archive/2018/01/24', 'https://medium.com/tag/health/archive/2018/01/25', 'https://medium.com/tag/health/archive/2018/01/26', 'https://medium.com/tag/health/archive/2018/01/27', 'https://medium.com/tag/health/archive/2018/01/28', 'https://medium.com/tag/health/archive/2018/01/29', 'https://medium.com/tag/health/archive/2018/01/30', 'https://medium.com/tag/health/archive/2018/01/31', 'https://medium.com/tag/health/archive/2018/02/01']\n",
      "***** 92 articles on 20180101, 92 total articles so far ****\n",
      "***** 159 articles on 20180103, 251 total articles so far ****\n",
      "***** 141 articles on 20180102, 392 total articles so far ****\n",
      "***** 103 articles on 20180106, 495 total articles so far ****\n",
      "***** 76 articles on 20180107, 571 total articles so far ****\n",
      "***** 172 articles on 20180109, 743 total articles so far ****\n",
      "***** 164 articles on 20180105, 907 total articles so far ****\n",
      "***** 166 articles on 20180108, 1073 total articles so far ****\n",
      "***** 90 articles on 20180113, 1163 total articles so far ****\n",
      "***** 172 articles on 20180110, 1335 total articles so far ****\n",
      "***** 167 articles on 20180111, 1502 total articles so far ****\n",
      "***** 79 articles on 20180114, 1581 total articles so far ****\n",
      "***** 156 articles on 20180112, 1737 total articles so far ****\n",
      "***** 140 articles on 20180115, 1877 total articles so far ****\n",
      "***** 171 articles on 20180116, 2048 total articles so far ****\n",
      "***** 161 articles on 20180117, 2209 total articles so far ****\n",
      "***** 163 articles on 20180104, 2372 total articles so far ****\n",
      "***** 109 articles on 20180120, 2481 total articles so far ****\n",
      "***** 160 articles on 20180118, 2641 total articles so far ****\n",
      "***** 91 articles on 20180121, 2732 total articles so far ****\n",
      "***** 163 articles on 20180119, 2895 total articles so far ****\n",
      "***** 173 articles on 20180123, 3068 total articles so far ****\n",
      "***** 165 articles on 20180122, 3233 total articles so far ****\n",
      "***** 88 articles on 20180128, 3321 total articles so far ****\n",
      "***** 156 articles on 20180124, 3477 total articles so far ****\n",
      "***** 132 articles on 20180126, 3609 total articles so far ****\n",
      "***** 117 articles on 20180127, 3726 total articles so far ****\n",
      "***** 161 articles on 20180125, 3887 total articles so far ****\n",
      "***** 154 articles on 20180129, 4041 total articles so far ****\n",
      "***** 171 articles on 20180131, 4212 total articles so far ****\n",
      "***** 173 articles on 20180130, 4385 total articles so far ****\n",
      "***** 163 articles on 20180201, 4548 total articles so far ****\n",
      "1128.75 seconds\n",
      "1128.75 seconds; 4520 articles\n"
     ]
    }
   ],
   "source": [
    "delay = 0.2\n",
    "\n",
    "command, output_file = run_string(delay)\n",
    "runtime = time_script(command)\n",
    "n_articles = check_output(output_file)\n",
    "\n",
    "print('{0} seconds; {1} articles'.format(runtime, n_articles))"
   ]
  },
  {
   "cell_type": "markdown",
   "metadata": {},
   "source": [
    "0.2 caught all articles"
   ]
  },
  {
   "cell_type": "code",
   "execution_count": 63,
   "metadata": {},
   "outputs": [
    {
     "name": "stdout",
     "output_type": "stream",
     "text": [
      "scrapy runspider -a tag=health -a start_date=20180101 -a end_date=20180201 --logfile logs/20180101health20180201_0.15.log medium_scraper_tag_archive_TIME-TEST.py -o scraped_data/20180101health20180201_0.15.json -s DOWNLOAD_DELAY=0.15\n",
      "['https://medium.com/tag/health/archive/2018/01/01', 'https://medium.com/tag/health/archive/2018/01/02', 'https://medium.com/tag/health/archive/2018/01/03', 'https://medium.com/tag/health/archive/2018/01/04', 'https://medium.com/tag/health/archive/2018/01/05', 'https://medium.com/tag/health/archive/2018/01/06', 'https://medium.com/tag/health/archive/2018/01/07', 'https://medium.com/tag/health/archive/2018/01/08', 'https://medium.com/tag/health/archive/2018/01/09', 'https://medium.com/tag/health/archive/2018/01/10', 'https://medium.com/tag/health/archive/2018/01/11', 'https://medium.com/tag/health/archive/2018/01/12', 'https://medium.com/tag/health/archive/2018/01/13', 'https://medium.com/tag/health/archive/2018/01/14', 'https://medium.com/tag/health/archive/2018/01/15', 'https://medium.com/tag/health/archive/2018/01/16', 'https://medium.com/tag/health/archive/2018/01/17', 'https://medium.com/tag/health/archive/2018/01/18', 'https://medium.com/tag/health/archive/2018/01/19', 'https://medium.com/tag/health/archive/2018/01/20', 'https://medium.com/tag/health/archive/2018/01/21', 'https://medium.com/tag/health/archive/2018/01/22', 'https://medium.com/tag/health/archive/2018/01/23', 'https://medium.com/tag/health/archive/2018/01/24', 'https://medium.com/tag/health/archive/2018/01/25', 'https://medium.com/tag/health/archive/2018/01/26', 'https://medium.com/tag/health/archive/2018/01/27', 'https://medium.com/tag/health/archive/2018/01/28', 'https://medium.com/tag/health/archive/2018/01/29', 'https://medium.com/tag/health/archive/2018/01/30', 'https://medium.com/tag/health/archive/2018/01/31', 'https://medium.com/tag/health/archive/2018/02/01']\n",
      "***** 92 articles on 20180101, 92 total articles so far ****\n",
      "***** 141 articles on 20180102, 233 total articles so far ****\n",
      "***** 103 articles on 20180106, 336 total articles so far ****\n",
      "***** 76 articles on 20180107, 412 total articles so far ****\n",
      "***** 159 articles on 20180103, 571 total articles so far ****\n",
      "***** 164 articles on 20180105, 735 total articles so far ****\n",
      "***** 163 articles on 20180104, 898 total articles so far ****\n",
      "***** 166 articles on 20180108, 1064 total articles so far ****\n",
      "***** 172 articles on 20180109, 1236 total articles so far ****\n",
      "***** 90 articles on 20180113, 1326 total articles so far ****\n",
      "***** 79 articles on 20180114, 1405 total articles so far ****\n",
      "***** 172 articles on 20180110, 1577 total articles so far ****\n",
      "***** 156 articles on 20180112, 1733 total articles so far ****\n",
      "***** 140 articles on 20180115, 1873 total articles so far ****\n",
      "***** 167 articles on 20180111, 2040 total articles so far ****\n",
      "***** 171 articles on 20180116, 2211 total articles so far ****\n",
      "***** 161 articles on 20180117, 2372 total articles so far ****\n",
      "***** 91 articles on 20180121, 2463 total articles so far ****\n",
      "***** 109 articles on 20180120, 2572 total articles so far ****\n",
      "***** 163 articles on 20180119, 2735 total articles so far ****\n",
      "***** 160 articles on 20180118, 2895 total articles so far ****\n",
      "***** 173 articles on 20180123, 3068 total articles so far ****\n",
      "***** 165 articles on 20180122, 3233 total articles so far ****\n",
      "***** 156 articles on 20180124, 3389 total articles so far ****\n",
      "***** 117 articles on 20180127, 3506 total articles so far ****\n",
      "***** 132 articles on 20180126, 3638 total articles so far ****\n",
      "***** 161 articles on 20180125, 3799 total articles so far ****\n",
      "***** 88 articles on 20180128, 3887 total articles so far ****\n",
      "***** 154 articles on 20180129, 4041 total articles so far ****\n",
      "***** 173 articles on 20180130, 4214 total articles so far ****\n",
      "***** 171 articles on 20180131, 4385 total articles so far ****\n",
      "***** 163 articles on 20180201, 4548 total articles so far ****\n",
      "879.22 seconds\n",
      "879.22 seconds; 4520 articles\n"
     ]
    }
   ],
   "source": [
    "delay = 0.15\n",
    "\n",
    "command, output_file = run_string(delay)\n",
    "runtime = time_script(command)\n",
    "n_articles = check_output(output_file)\n",
    "\n",
    "print('{0} seconds; {1} articles'.format(runtime, n_articles))"
   ]
  },
  {
   "cell_type": "markdown",
   "metadata": {},
   "source": [
    "0.15 caught all articles but there were some 429 errors raised which were resolved by the 3 attempt. In practice it would be best to avoid getting any errors at all, so we will try a higher value"
   ]
  },
  {
   "cell_type": "code",
   "execution_count": 64,
   "metadata": {},
   "outputs": [
    {
     "name": "stdout",
     "output_type": "stream",
     "text": [
      "scrapy runspider -a tag=health -a start_date=20180101 -a end_date=20180201 --logfile logs/20180101health20180201_0.17.log medium_scraper_tag_archive_TIME-TEST.py -o scraped_data/20180101health20180201_0.17.json -s DOWNLOAD_DELAY=0.17\n",
      "['https://medium.com/tag/health/archive/2018/01/01', 'https://medium.com/tag/health/archive/2018/01/02', 'https://medium.com/tag/health/archive/2018/01/03', 'https://medium.com/tag/health/archive/2018/01/04', 'https://medium.com/tag/health/archive/2018/01/05', 'https://medium.com/tag/health/archive/2018/01/06', 'https://medium.com/tag/health/archive/2018/01/07', 'https://medium.com/tag/health/archive/2018/01/08', 'https://medium.com/tag/health/archive/2018/01/09', 'https://medium.com/tag/health/archive/2018/01/10', 'https://medium.com/tag/health/archive/2018/01/11', 'https://medium.com/tag/health/archive/2018/01/12', 'https://medium.com/tag/health/archive/2018/01/13', 'https://medium.com/tag/health/archive/2018/01/14', 'https://medium.com/tag/health/archive/2018/01/15', 'https://medium.com/tag/health/archive/2018/01/16', 'https://medium.com/tag/health/archive/2018/01/17', 'https://medium.com/tag/health/archive/2018/01/18', 'https://medium.com/tag/health/archive/2018/01/19', 'https://medium.com/tag/health/archive/2018/01/20', 'https://medium.com/tag/health/archive/2018/01/21', 'https://medium.com/tag/health/archive/2018/01/22', 'https://medium.com/tag/health/archive/2018/01/23', 'https://medium.com/tag/health/archive/2018/01/24', 'https://medium.com/tag/health/archive/2018/01/25', 'https://medium.com/tag/health/archive/2018/01/26', 'https://medium.com/tag/health/archive/2018/01/27', 'https://medium.com/tag/health/archive/2018/01/28', 'https://medium.com/tag/health/archive/2018/01/29', 'https://medium.com/tag/health/archive/2018/01/30', 'https://medium.com/tag/health/archive/2018/01/31', 'https://medium.com/tag/health/archive/2018/02/01']\n",
      "***** 92 articles on 20180101, 92 total articles so far ****\n",
      "***** 76 articles on 20180107, 168 total articles so far ****\n",
      "***** 141 articles on 20180102, 309 total articles so far ****\n",
      "***** 103 articles on 20180106, 412 total articles so far ****\n",
      "***** 166 articles on 20180108, 578 total articles so far ****\n",
      "***** 164 articles on 20180105, 742 total articles so far ****\n",
      "***** 159 articles on 20180103, 901 total articles so far ****\n",
      "***** 163 articles on 20180104, 1064 total articles so far ****\n",
      "***** 172 articles on 20180109, 1236 total articles so far ****\n",
      "***** 172 articles on 20180110, 1408 total articles so far ****\n",
      "***** 90 articles on 20180113, 1498 total articles so far ****\n",
      "***** 79 articles on 20180114, 1577 total articles so far ****\n",
      "***** 156 articles on 20180112, 1733 total articles so far ****\n",
      "***** 140 articles on 20180115, 1873 total articles so far ****\n",
      "***** 167 articles on 20180111, 2040 total articles so far ****\n",
      "***** 171 articles on 20180116, 2211 total articles so far ****\n",
      "***** 161 articles on 20180117, 2372 total articles so far ****\n",
      "***** 109 articles on 20180120, 2481 total articles so far ****\n",
      "***** 160 articles on 20180118, 2641 total articles so far ****\n",
      "***** 165 articles on 20180122, 2806 total articles so far ****\n",
      "***** 163 articles on 20180119, 2969 total articles so far ****\n",
      "***** 91 articles on 20180121, 3060 total articles so far ****\n",
      "***** 156 articles on 20180124, 3216 total articles so far ****\n",
      "***** 173 articles on 20180123, 3389 total articles so far ****\n",
      "***** 132 articles on 20180126, 3521 total articles so far ****\n",
      "***** 117 articles on 20180127, 3638 total articles so far ****\n",
      "***** 161 articles on 20180125, 3799 total articles so far ****\n",
      "***** 88 articles on 20180128, 3887 total articles so far ****\n",
      "***** 154 articles on 20180129, 4041 total articles so far ****\n",
      "***** 173 articles on 20180130, 4214 total articles so far ****\n",
      "***** 171 articles on 20180131, 4385 total articles so far ****\n",
      "***** 163 articles on 20180201, 4548 total articles so far ****\n",
      "970.57 seconds\n",
      "970.57 seconds; 4520 articles\n"
     ]
    }
   ],
   "source": [
    "delay = 0.17\n",
    "\n",
    "command, output_file = run_string(delay)\n",
    "runtime = time_script(command)\n",
    "n_articles = check_output(output_file)\n",
    "\n",
    "print('{0} seconds; {1} articles'.format(runtime, n_articles))"
   ]
  },
  {
   "cell_type": "code",
   "execution_count": 65,
   "metadata": {},
   "outputs": [
    {
     "name": "stdout",
     "output_type": "stream",
     "text": [
      "scrapy runspider -a tag=health -a start_date=20180101 -a end_date=20180201 --logfile logs/20180101health20180201_0.16.log medium_scraper_tag_archive_TIME-TEST.py -o scraped_data/20180101health20180201_0.16.json -s DOWNLOAD_DELAY=0.16\n",
      "['https://medium.com/tag/health/archive/2018/01/01', 'https://medium.com/tag/health/archive/2018/01/02', 'https://medium.com/tag/health/archive/2018/01/03', 'https://medium.com/tag/health/archive/2018/01/04', 'https://medium.com/tag/health/archive/2018/01/05', 'https://medium.com/tag/health/archive/2018/01/06', 'https://medium.com/tag/health/archive/2018/01/07', 'https://medium.com/tag/health/archive/2018/01/08', 'https://medium.com/tag/health/archive/2018/01/09', 'https://medium.com/tag/health/archive/2018/01/10', 'https://medium.com/tag/health/archive/2018/01/11', 'https://medium.com/tag/health/archive/2018/01/12', 'https://medium.com/tag/health/archive/2018/01/13', 'https://medium.com/tag/health/archive/2018/01/14', 'https://medium.com/tag/health/archive/2018/01/15', 'https://medium.com/tag/health/archive/2018/01/16', 'https://medium.com/tag/health/archive/2018/01/17', 'https://medium.com/tag/health/archive/2018/01/18', 'https://medium.com/tag/health/archive/2018/01/19', 'https://medium.com/tag/health/archive/2018/01/20', 'https://medium.com/tag/health/archive/2018/01/21', 'https://medium.com/tag/health/archive/2018/01/22', 'https://medium.com/tag/health/archive/2018/01/23', 'https://medium.com/tag/health/archive/2018/01/24', 'https://medium.com/tag/health/archive/2018/01/25', 'https://medium.com/tag/health/archive/2018/01/26', 'https://medium.com/tag/health/archive/2018/01/27', 'https://medium.com/tag/health/archive/2018/01/28', 'https://medium.com/tag/health/archive/2018/01/29', 'https://medium.com/tag/health/archive/2018/01/30', 'https://medium.com/tag/health/archive/2018/01/31', 'https://medium.com/tag/health/archive/2018/02/01']\n",
      "***** 92 articles on 20180101, 92 total articles so far ****\n",
      "***** 76 articles on 20180107, 168 total articles so far ****\n",
      "***** 141 articles on 20180102, 309 total articles so far ****\n",
      "***** 159 articles on 20180103, 468 total articles so far ****\n",
      "***** 103 articles on 20180106, 571 total articles so far ****\n",
      "***** 164 articles on 20180105, 735 total articles so far ****\n",
      "***** 166 articles on 20180108, 901 total articles so far ****\n",
      "***** 172 articles on 20180109, 1073 total articles so far ****\n",
      "***** 167 articles on 20180111, 1240 total articles so far ****\n",
      "***** 172 articles on 20180110, 1412 total articles so far ****\n",
      "***** 156 articles on 20180112, 1568 total articles so far ****\n",
      "***** 79 articles on 20180114, 1647 total articles so far ****\n",
      "***** 90 articles on 20180113, 1737 total articles so far ****\n",
      "***** 140 articles on 20180115, 1877 total articles so far ****\n",
      "***** 171 articles on 20180116, 2048 total articles so far ****\n",
      "***** 161 articles on 20180117, 2209 total articles so far ****\n",
      "***** 163 articles on 20180104, 2372 total articles so far ****\n",
      "***** 109 articles on 20180120, 2481 total articles so far ****\n",
      "***** 91 articles on 20180121, 2572 total articles so far ****\n",
      "***** 160 articles on 20180118, 2732 total articles so far ****\n",
      "***** 163 articles on 20180119, 2895 total articles so far ****\n",
      "***** 88 articles on 20180128, 2983 total articles so far ****\n",
      "***** 132 articles on 20180126, 3115 total articles so far ****\n",
      "***** 156 articles on 20180124, 3271 total articles so far ****\n",
      "***** 161 articles on 20180125, 3432 total articles so far ****\n",
      "***** 117 articles on 20180127, 3549 total articles so far ****\n",
      "***** 154 articles on 20180129, 3703 total articles so far ****\n",
      "***** 173 articles on 20180130, 3876 total articles so far ****\n",
      "***** 171 articles on 20180131, 4047 total articles so far ****\n",
      "***** 165 articles on 20180122, 4212 total articles so far ****\n",
      "***** 163 articles on 20180201, 4375 total articles so far ****\n",
      "***** 173 articles on 20180123, 4548 total articles so far ****\n",
      "1001.17 seconds\n",
      "1001.17 seconds; 4514 articles\n"
     ]
    }
   ],
   "source": [
    "delay = 0.16\n",
    "\n",
    "command, output_file = run_string(delay)\n",
    "runtime = time_script(command)\n",
    "n_articles = check_output(output_file)\n",
    "\n",
    "print('{0} seconds; {1} articles'.format(runtime, n_articles))"
   ]
  },
  {
   "cell_type": "code",
   "execution_count": 66,
   "metadata": {},
   "outputs": [
    {
     "name": "stdout",
     "output_type": "stream",
     "text": [
      "scrapy runspider -a tag=health -a start_date=20180101 -a end_date=20180201 --logfile logs/20180101health20180201_0.165.log medium_scraper_tag_archive_TIME-TEST.py -o scraped_data/20180101health20180201_0.165.json -s DOWNLOAD_DELAY=0.165\n",
      "['https://medium.com/tag/health/archive/2018/01/01', 'https://medium.com/tag/health/archive/2018/01/02', 'https://medium.com/tag/health/archive/2018/01/03', 'https://medium.com/tag/health/archive/2018/01/04', 'https://medium.com/tag/health/archive/2018/01/05', 'https://medium.com/tag/health/archive/2018/01/06', 'https://medium.com/tag/health/archive/2018/01/07', 'https://medium.com/tag/health/archive/2018/01/08', 'https://medium.com/tag/health/archive/2018/01/09', 'https://medium.com/tag/health/archive/2018/01/10', 'https://medium.com/tag/health/archive/2018/01/11', 'https://medium.com/tag/health/archive/2018/01/12', 'https://medium.com/tag/health/archive/2018/01/13', 'https://medium.com/tag/health/archive/2018/01/14', 'https://medium.com/tag/health/archive/2018/01/15', 'https://medium.com/tag/health/archive/2018/01/16', 'https://medium.com/tag/health/archive/2018/01/17', 'https://medium.com/tag/health/archive/2018/01/18', 'https://medium.com/tag/health/archive/2018/01/19', 'https://medium.com/tag/health/archive/2018/01/20', 'https://medium.com/tag/health/archive/2018/01/21', 'https://medium.com/tag/health/archive/2018/01/22', 'https://medium.com/tag/health/archive/2018/01/23', 'https://medium.com/tag/health/archive/2018/01/24', 'https://medium.com/tag/health/archive/2018/01/25', 'https://medium.com/tag/health/archive/2018/01/26', 'https://medium.com/tag/health/archive/2018/01/27', 'https://medium.com/tag/health/archive/2018/01/28', 'https://medium.com/tag/health/archive/2018/01/29', 'https://medium.com/tag/health/archive/2018/01/30', 'https://medium.com/tag/health/archive/2018/01/31', 'https://medium.com/tag/health/archive/2018/02/01']\n",
      "***** 92 articles on 20180101, 92 total articles so far ****\n",
      "***** 141 articles on 20180102, 233 total articles so far ****\n",
      "***** 103 articles on 20180106, 336 total articles so far ****\n",
      "***** 159 articles on 20180103, 495 total articles so far ****\n",
      "***** 76 articles on 20180107, 571 total articles so far ****\n",
      "***** 164 articles on 20180105, 735 total articles so far ****\n",
      "***** 163 articles on 20180104, 898 total articles so far ****\n",
      "***** 90 articles on 20180113, 988 total articles so far ****\n",
      "***** 79 articles on 20180114, 1067 total articles so far ****\n",
      "***** 167 articles on 20180111, 1234 total articles so far ****\n",
      "***** 166 articles on 20180108, 1400 total articles so far ****\n",
      "***** 172 articles on 20180110, 1572 total articles so far ****\n",
      "***** 172 articles on 20180109, 1744 total articles so far ****\n",
      "***** 156 articles on 20180112, 1900 total articles so far ****\n",
      "***** 140 articles on 20180115, 2040 total articles so far ****\n",
      "***** 171 articles on 20180116, 2211 total articles so far ****\n",
      "***** 161 articles on 20180117, 2372 total articles so far ****\n",
      "***** 109 articles on 20180120, 2481 total articles so far ****\n",
      "***** 91 articles on 20180121, 2572 total articles so far ****\n",
      "***** 160 articles on 20180118, 2732 total articles so far ****\n",
      "***** 163 articles on 20180119, 2895 total articles so far ****\n",
      "***** 156 articles on 20180124, 3051 total articles so far ****\n",
      "***** 165 articles on 20180122, 3216 total articles so far ****\n",
      "***** 173 articles on 20180123, 3389 total articles so far ****\n",
      "***** 161 articles on 20180125, 3550 total articles so far ****\n",
      "***** 117 articles on 20180127, 3667 total articles so far ****\n",
      "***** 88 articles on 20180128, 3755 total articles so far ****\n",
      "***** 132 articles on 20180126, 3887 total articles so far ****\n",
      "***** 154 articles on 20180129, 4041 total articles so far ****\n",
      "***** 173 articles on 20180130, 4214 total articles so far ****\n",
      "***** 171 articles on 20180131, 4385 total articles so far ****\n",
      "***** 163 articles on 20180201, 4548 total articles so far ****\n",
      "940.33 seconds\n",
      "940.33 seconds; 4520 articles\n"
     ]
    }
   ],
   "source": [
    "delay = 0.165\n",
    "\n",
    "command, output_file = run_string(delay)\n",
    "runtime = time_script(command)\n",
    "n_articles = check_output(output_file)\n",
    "\n",
    "print('{0} seconds; {1} articles'.format(runtime, n_articles))"
   ]
  },
  {
   "cell_type": "code",
   "execution_count": 67,
   "metadata": {},
   "outputs": [
    {
     "name": "stdout",
     "output_type": "stream",
     "text": [
      "scrapy runspider -a tag=health -a start_date=20180101 -a end_date=20180201 --logfile logs/20180101health20180201_0.155.log medium_scraper_tag_archive_TIME-TEST.py -o scraped_data/20180101health20180201_0.155.json -s DOWNLOAD_DELAY=0.155\n",
      "['https://medium.com/tag/health/archive/2018/01/01', 'https://medium.com/tag/health/archive/2018/01/02', 'https://medium.com/tag/health/archive/2018/01/03', 'https://medium.com/tag/health/archive/2018/01/04', 'https://medium.com/tag/health/archive/2018/01/05', 'https://medium.com/tag/health/archive/2018/01/06', 'https://medium.com/tag/health/archive/2018/01/07', 'https://medium.com/tag/health/archive/2018/01/08', 'https://medium.com/tag/health/archive/2018/01/09', 'https://medium.com/tag/health/archive/2018/01/10', 'https://medium.com/tag/health/archive/2018/01/11', 'https://medium.com/tag/health/archive/2018/01/12', 'https://medium.com/tag/health/archive/2018/01/13', 'https://medium.com/tag/health/archive/2018/01/14', 'https://medium.com/tag/health/archive/2018/01/15', 'https://medium.com/tag/health/archive/2018/01/16', 'https://medium.com/tag/health/archive/2018/01/17', 'https://medium.com/tag/health/archive/2018/01/18', 'https://medium.com/tag/health/archive/2018/01/19', 'https://medium.com/tag/health/archive/2018/01/20', 'https://medium.com/tag/health/archive/2018/01/21', 'https://medium.com/tag/health/archive/2018/01/22', 'https://medium.com/tag/health/archive/2018/01/23', 'https://medium.com/tag/health/archive/2018/01/24', 'https://medium.com/tag/health/archive/2018/01/25', 'https://medium.com/tag/health/archive/2018/01/26', 'https://medium.com/tag/health/archive/2018/01/27', 'https://medium.com/tag/health/archive/2018/01/28', 'https://medium.com/tag/health/archive/2018/01/29', 'https://medium.com/tag/health/archive/2018/01/30', 'https://medium.com/tag/health/archive/2018/01/31', 'https://medium.com/tag/health/archive/2018/02/01']\n",
      "***** 92 articles on 20180101, 92 total articles so far ****\n",
      "***** 76 articles on 20180107, 168 total articles so far ****\n",
      "***** 103 articles on 20180106, 271 total articles so far ****\n",
      "***** 141 articles on 20180102, 412 total articles so far ****\n",
      "***** 159 articles on 20180103, 571 total articles so far ****\n",
      "***** 163 articles on 20180104, 734 total articles so far ****\n",
      "***** 164 articles on 20180105, 898 total articles so far ****\n",
      "***** 172 articles on 20180109, 1070 total articles so far ****\n",
      "***** 166 articles on 20180108, 1236 total articles so far ****\n",
      "***** 172 articles on 20180110, 1408 total articles so far ****\n",
      "***** 79 articles on 20180114, 1487 total articles so far ****\n",
      "***** 90 articles on 20180113, 1577 total articles so far ****\n",
      "***** 167 articles on 20180111, 1744 total articles so far ****\n",
      "***** 156 articles on 20180112, 1900 total articles so far ****\n",
      "***** 140 articles on 20180115, 2040 total articles so far ****\n",
      "***** 171 articles on 20180116, 2211 total articles so far ****\n",
      "***** 161 articles on 20180117, 2372 total articles so far ****\n",
      "***** 91 articles on 20180121, 2463 total articles so far ****\n",
      "***** 109 articles on 20180120, 2572 total articles so far ****\n",
      "***** 163 articles on 20180119, 2735 total articles so far ****\n",
      "***** 160 articles on 20180118, 2895 total articles so far ****\n",
      "***** 165 articles on 20180122, 3060 total articles so far ****\n",
      "***** 156 articles on 20180124, 3216 total articles so far ****\n",
      "***** 88 articles on 20180128, 3304 total articles so far ****\n",
      "***** 173 articles on 20180123, 3477 total articles so far ****\n",
      "***** 161 articles on 20180125, 3638 total articles so far ****\n",
      "***** 132 articles on 20180126, 3770 total articles so far ****\n",
      "***** 117 articles on 20180127, 3887 total articles so far ****\n",
      "***** 154 articles on 20180129, 4041 total articles so far ****\n",
      "***** 173 articles on 20180130, 4214 total articles so far ****\n",
      "***** 171 articles on 20180131, 4385 total articles so far ****\n",
      "***** 163 articles on 20180201, 4548 total articles so far ****\n",
      "889.17 seconds\n",
      "889.17 seconds; 4520 articles\n"
     ]
    }
   ],
   "source": [
    "delay = 0.155\n",
    "\n",
    "command, output_file = run_string(delay)\n",
    "runtime = time_script(command)\n",
    "n_articles = check_output(output_file)\n",
    "\n",
    "print('{0} seconds; {1} articles'.format(runtime, n_articles))"
   ]
  },
  {
   "cell_type": "code",
   "execution_count": 68,
   "metadata": {},
   "outputs": [
    {
     "name": "stdout",
     "output_type": "stream",
     "text": [
      "scrapy runspider -a tag=health -a start_date=20180101 -a end_date=20180201 --logfile logs/20180101health20180201_0.125.log medium_scraper_tag_archive_TIME-TEST.py -o scraped_data/20180101health20180201_0.125.json -s DOWNLOAD_DELAY=0.125\n",
      "['https://medium.com/tag/health/archive/2018/01/01', 'https://medium.com/tag/health/archive/2018/01/02', 'https://medium.com/tag/health/archive/2018/01/03', 'https://medium.com/tag/health/archive/2018/01/04', 'https://medium.com/tag/health/archive/2018/01/05', 'https://medium.com/tag/health/archive/2018/01/06', 'https://medium.com/tag/health/archive/2018/01/07', 'https://medium.com/tag/health/archive/2018/01/08', 'https://medium.com/tag/health/archive/2018/01/09', 'https://medium.com/tag/health/archive/2018/01/10', 'https://medium.com/tag/health/archive/2018/01/11', 'https://medium.com/tag/health/archive/2018/01/12', 'https://medium.com/tag/health/archive/2018/01/13', 'https://medium.com/tag/health/archive/2018/01/14', 'https://medium.com/tag/health/archive/2018/01/15', 'https://medium.com/tag/health/archive/2018/01/16', 'https://medium.com/tag/health/archive/2018/01/17', 'https://medium.com/tag/health/archive/2018/01/18', 'https://medium.com/tag/health/archive/2018/01/19', 'https://medium.com/tag/health/archive/2018/01/20', 'https://medium.com/tag/health/archive/2018/01/21', 'https://medium.com/tag/health/archive/2018/01/22', 'https://medium.com/tag/health/archive/2018/01/23', 'https://medium.com/tag/health/archive/2018/01/24', 'https://medium.com/tag/health/archive/2018/01/25', 'https://medium.com/tag/health/archive/2018/01/26', 'https://medium.com/tag/health/archive/2018/01/27', 'https://medium.com/tag/health/archive/2018/01/28', 'https://medium.com/tag/health/archive/2018/01/29', 'https://medium.com/tag/health/archive/2018/01/30', 'https://medium.com/tag/health/archive/2018/01/31', 'https://medium.com/tag/health/archive/2018/02/01']\n",
      "***** 92 articles on 20180101, 92 total articles so far ****\n",
      "***** 76 articles on 20180107, 168 total articles so far ****\n",
      "***** 141 articles on 20180102, 309 total articles so far ****\n",
      "***** 103 articles on 20180106, 412 total articles so far ****\n",
      "***** 164 articles on 20180105, 576 total articles so far ****\n",
      "***** 163 articles on 20180104, 739 total articles so far ****\n",
      "***** 172 articles on 20180109, 911 total articles so far ****\n",
      "***** 79 articles on 20180114, 990 total articles so far ****\n",
      "***** 172 articles on 20180110, 1162 total articles so far ****\n",
      "***** 156 articles on 20180112, 1318 total articles so far ****\n",
      "***** 90 articles on 20180113, 1408 total articles so far ****\n",
      "***** 167 articles on 20180111, 1575 total articles so far ****\n",
      "***** 140 articles on 20180115, 1715 total articles so far ****\n",
      "***** 171 articles on 20180116, 1886 total articles so far ****\n",
      "***** 161 articles on 20180117, 2047 total articles so far ****\n",
      "***** 166 articles on 20180108, 2213 total articles so far ****\n",
      "***** 159 articles on 20180103, 2372 total articles so far ****\n",
      "***** 109 articles on 20180120, 2481 total articles so far ****\n",
      "***** 160 articles on 20180118, 2641 total articles so far ****\n",
      "***** 88 articles on 20180128, 2729 total articles so far ****\n",
      "***** 163 articles on 20180119, 2892 total articles so far ****\n",
      "***** 173 articles on 20180123, 3065 total articles so far ****\n",
      "***** 165 articles on 20180122, 3230 total articles so far ****\n",
      "***** 156 articles on 20180124, 3386 total articles so far ****\n",
      "***** 117 articles on 20180127, 3503 total articles so far ****\n",
      "***** 161 articles on 20180125, 3664 total articles so far ****\n",
      "***** 154 articles on 20180129, 3818 total articles so far ****\n",
      "***** 91 articles on 20180121, 3909 total articles so far ****\n",
      "***** 173 articles on 20180130, 4082 total articles so far ****\n",
      "***** 171 articles on 20180131, 4253 total articles so far ****\n",
      "***** 132 articles on 20180126, 4385 total articles so far ****\n",
      "***** 163 articles on 20180201, 4548 total articles so far ****\n",
      "868.02 seconds\n",
      "868.02 seconds; 4481 articles\n"
     ]
    }
   ],
   "source": [
    "delay = 0.125\n",
    "\n",
    "command, output_file = run_string(delay)\n",
    "runtime = time_script(command)\n",
    "n_articles = check_output(output_file)\n",
    "\n",
    "print('{0} seconds; {1} articles'.format(runtime, n_articles))"
   ]
  },
  {
   "cell_type": "code",
   "execution_count": 69,
   "metadata": {},
   "outputs": [
    {
     "name": "stdout",
     "output_type": "stream",
     "text": [
      "scrapy runspider -a tag=health -a start_date=20180101 -a end_date=20180201 --logfile logs/20180101health20180201_0.1525.log medium_scraper_tag_archive_TIME-TEST.py -o scraped_data/20180101health20180201_0.1525.json -s DOWNLOAD_DELAY=0.1525\n",
      "['https://medium.com/tag/health/archive/2018/01/01', 'https://medium.com/tag/health/archive/2018/01/02', 'https://medium.com/tag/health/archive/2018/01/03', 'https://medium.com/tag/health/archive/2018/01/04', 'https://medium.com/tag/health/archive/2018/01/05', 'https://medium.com/tag/health/archive/2018/01/06', 'https://medium.com/tag/health/archive/2018/01/07', 'https://medium.com/tag/health/archive/2018/01/08', 'https://medium.com/tag/health/archive/2018/01/09', 'https://medium.com/tag/health/archive/2018/01/10', 'https://medium.com/tag/health/archive/2018/01/11', 'https://medium.com/tag/health/archive/2018/01/12', 'https://medium.com/tag/health/archive/2018/01/13', 'https://medium.com/tag/health/archive/2018/01/14', 'https://medium.com/tag/health/archive/2018/01/15', 'https://medium.com/tag/health/archive/2018/01/16', 'https://medium.com/tag/health/archive/2018/01/17', 'https://medium.com/tag/health/archive/2018/01/18', 'https://medium.com/tag/health/archive/2018/01/19', 'https://medium.com/tag/health/archive/2018/01/20', 'https://medium.com/tag/health/archive/2018/01/21', 'https://medium.com/tag/health/archive/2018/01/22', 'https://medium.com/tag/health/archive/2018/01/23', 'https://medium.com/tag/health/archive/2018/01/24', 'https://medium.com/tag/health/archive/2018/01/25', 'https://medium.com/tag/health/archive/2018/01/26', 'https://medium.com/tag/health/archive/2018/01/27', 'https://medium.com/tag/health/archive/2018/01/28', 'https://medium.com/tag/health/archive/2018/01/29', 'https://medium.com/tag/health/archive/2018/01/30', 'https://medium.com/tag/health/archive/2018/01/31', 'https://medium.com/tag/health/archive/2018/02/01']\n",
      "***** 92 articles on 20180101, 92 total articles so far ****\n",
      "***** 76 articles on 20180107, 168 total articles so far ****\n",
      "***** 103 articles on 20180106, 271 total articles so far ****\n",
      "***** 163 articles on 20180104, 434 total articles so far ****\n",
      "***** 141 articles on 20180102, 575 total articles so far ****\n",
      "***** 159 articles on 20180103, 734 total articles so far ****\n",
      "***** 164 articles on 20180105, 898 total articles so far ****\n",
      "***** 172 articles on 20180109, 1070 total articles so far ****\n",
      "***** 166 articles on 20180108, 1236 total articles so far ****\n",
      "***** 90 articles on 20180113, 1326 total articles so far ****\n",
      "***** 79 articles on 20180114, 1405 total articles so far ****\n",
      "***** 172 articles on 20180110, 1577 total articles so far ****\n",
      "***** 156 articles on 20180112, 1733 total articles so far ****\n",
      "***** 167 articles on 20180111, 1900 total articles so far ****\n",
      "***** 140 articles on 20180115, 2040 total articles so far ****\n",
      "***** 171 articles on 20180116, 2211 total articles so far ****\n",
      "***** 161 articles on 20180117, 2372 total articles so far ****\n",
      "***** 91 articles on 20180121, 2463 total articles so far ****\n",
      "***** 109 articles on 20180120, 2572 total articles so far ****\n",
      "***** 163 articles on 20180119, 2735 total articles so far ****\n",
      "***** 160 articles on 20180118, 2895 total articles so far ****\n",
      "***** 165 articles on 20180122, 3060 total articles so far ****\n",
      "***** 156 articles on 20180124, 3216 total articles so far ****\n",
      "***** 88 articles on 20180128, 3304 total articles so far ****\n",
      "***** 161 articles on 20180125, 3465 total articles so far ****\n",
      "***** 173 articles on 20180123, 3638 total articles so far ****\n",
      "***** 117 articles on 20180127, 3755 total articles so far ****\n",
      "***** 132 articles on 20180126, 3887 total articles so far ****\n",
      "***** 154 articles on 20180129, 4041 total articles so far ****\n",
      "***** 173 articles on 20180130, 4214 total articles so far ****\n",
      "***** 171 articles on 20180131, 4385 total articles so far ****\n",
      "***** 163 articles on 20180201, 4548 total articles so far ****\n",
      "880.33 seconds\n",
      "880.33 seconds; 4520 articles\n"
     ]
    }
   ],
   "source": [
    "delay = 0.1525\n",
    "\n",
    "command, output_file = run_string(delay)\n",
    "runtime = time_script(command)\n",
    "n_articles = check_output(output_file)\n",
    "\n",
    "print('{0} seconds; {1} articles'.format(runtime, n_articles))"
   ]
  },
  {
   "cell_type": "code",
   "execution_count": 70,
   "metadata": {},
   "outputs": [
    {
     "name": "stdout",
     "output_type": "stream",
     "text": [
      "scrapy runspider -a tag=health -a start_date=20180101 -a end_date=20180201 --logfile logs/20180101health20180201_0.1575.log medium_scraper_tag_archive_TIME-TEST.py -o scraped_data/20180101health20180201_0.1575.json -s DOWNLOAD_DELAY=0.1575\n",
      "['https://medium.com/tag/health/archive/2018/01/01', 'https://medium.com/tag/health/archive/2018/01/02', 'https://medium.com/tag/health/archive/2018/01/03', 'https://medium.com/tag/health/archive/2018/01/04', 'https://medium.com/tag/health/archive/2018/01/05', 'https://medium.com/tag/health/archive/2018/01/06', 'https://medium.com/tag/health/archive/2018/01/07', 'https://medium.com/tag/health/archive/2018/01/08', 'https://medium.com/tag/health/archive/2018/01/09', 'https://medium.com/tag/health/archive/2018/01/10', 'https://medium.com/tag/health/archive/2018/01/11', 'https://medium.com/tag/health/archive/2018/01/12', 'https://medium.com/tag/health/archive/2018/01/13', 'https://medium.com/tag/health/archive/2018/01/14', 'https://medium.com/tag/health/archive/2018/01/15', 'https://medium.com/tag/health/archive/2018/01/16', 'https://medium.com/tag/health/archive/2018/01/17', 'https://medium.com/tag/health/archive/2018/01/18', 'https://medium.com/tag/health/archive/2018/01/19', 'https://medium.com/tag/health/archive/2018/01/20', 'https://medium.com/tag/health/archive/2018/01/21', 'https://medium.com/tag/health/archive/2018/01/22', 'https://medium.com/tag/health/archive/2018/01/23', 'https://medium.com/tag/health/archive/2018/01/24', 'https://medium.com/tag/health/archive/2018/01/25', 'https://medium.com/tag/health/archive/2018/01/26', 'https://medium.com/tag/health/archive/2018/01/27', 'https://medium.com/tag/health/archive/2018/01/28', 'https://medium.com/tag/health/archive/2018/01/29', 'https://medium.com/tag/health/archive/2018/01/30', 'https://medium.com/tag/health/archive/2018/01/31', 'https://medium.com/tag/health/archive/2018/02/01']\n",
      "***** 92 articles on 20180101, 92 total articles so far ****\n",
      "***** 76 articles on 20180107, 168 total articles so far ****\n",
      "***** 159 articles on 20180103, 327 total articles so far ****\n",
      "***** 141 articles on 20180102, 468 total articles so far ****\n",
      "***** 166 articles on 20180108, 634 total articles so far ****\n",
      "***** 172 articles on 20180109, 806 total articles so far ****\n",
      "***** 172 articles on 20180110, 978 total articles so far ****\n",
      "***** 90 articles on 20180113, 1068 total articles so far ****\n",
      "***** 156 articles on 20180112, 1224 total articles so far ****\n",
      "***** 79 articles on 20180114, 1303 total articles so far ****\n",
      "***** 167 articles on 20180111, 1470 total articles so far ****\n",
      "***** 140 articles on 20180115, 1610 total articles so far ****\n",
      "***** 171 articles on 20180116, 1781 total articles so far ****\n",
      "***** 161 articles on 20180117, 1942 total articles so far ****\n",
      "***** 164 articles on 20180105, 2106 total articles so far ****\n",
      "***** 163 articles on 20180104, 2269 total articles so far ****\n",
      "***** 103 articles on 20180106, 2372 total articles so far ****\n",
      "***** 163 articles on 20180119, 2535 total articles so far ****\n",
      "***** 109 articles on 20180120, 2644 total articles so far ****\n",
      "***** 160 articles on 20180118, 2804 total articles so far ****\n",
      "***** 91 articles on 20180121, 2895 total articles so far ****\n",
      "***** 165 articles on 20180122, 3060 total articles so far ****\n",
      "***** 173 articles on 20180123, 3233 total articles so far ****\n",
      "***** 156 articles on 20180124, 3389 total articles so far ****\n",
      "***** 161 articles on 20180125, 3550 total articles so far ****\n",
      "***** 88 articles on 20180128, 3638 total articles so far ****\n",
      "***** 117 articles on 20180127, 3755 total articles so far ****\n",
      "***** 132 articles on 20180126, 3887 total articles so far ****\n",
      "***** 173 articles on 20180130, 4060 total articles so far ****\n",
      "***** 171 articles on 20180131, 4231 total articles so far ****\n",
      "***** 154 articles on 20180129, 4385 total articles so far ****\n",
      "***** 163 articles on 20180201, 4548 total articles so far ****\n",
      "904.78 seconds\n",
      "904.78 seconds; 4520 articles\n"
     ]
    }
   ],
   "source": [
    "delay = 0.1575\n",
    "\n",
    "command, output_file = run_string(delay)\n",
    "runtime = time_script(command)\n",
    "n_articles = check_output(output_file)\n",
    "\n",
    "print('{0} seconds; {1} articles'.format(runtime, n_articles))"
   ]
  },
  {
   "cell_type": "code",
   "execution_count": 71,
   "metadata": {},
   "outputs": [
    {
     "name": "stdout",
     "output_type": "stream",
     "text": [
      "scrapy runspider -a tag=health -a start_date=20180101 -a end_date=20180201 --logfile logs/20180101health20180201_0.1625.log medium_scraper_tag_archive_TIME-TEST.py -o scraped_data/20180101health20180201_0.1625.json -s DOWNLOAD_DELAY=0.1625\n",
      "['https://medium.com/tag/health/archive/2018/01/01', 'https://medium.com/tag/health/archive/2018/01/02', 'https://medium.com/tag/health/archive/2018/01/03', 'https://medium.com/tag/health/archive/2018/01/04', 'https://medium.com/tag/health/archive/2018/01/05', 'https://medium.com/tag/health/archive/2018/01/06', 'https://medium.com/tag/health/archive/2018/01/07', 'https://medium.com/tag/health/archive/2018/01/08', 'https://medium.com/tag/health/archive/2018/01/09', 'https://medium.com/tag/health/archive/2018/01/10', 'https://medium.com/tag/health/archive/2018/01/11', 'https://medium.com/tag/health/archive/2018/01/12', 'https://medium.com/tag/health/archive/2018/01/13', 'https://medium.com/tag/health/archive/2018/01/14', 'https://medium.com/tag/health/archive/2018/01/15', 'https://medium.com/tag/health/archive/2018/01/16', 'https://medium.com/tag/health/archive/2018/01/17', 'https://medium.com/tag/health/archive/2018/01/18', 'https://medium.com/tag/health/archive/2018/01/19', 'https://medium.com/tag/health/archive/2018/01/20', 'https://medium.com/tag/health/archive/2018/01/21', 'https://medium.com/tag/health/archive/2018/01/22', 'https://medium.com/tag/health/archive/2018/01/23', 'https://medium.com/tag/health/archive/2018/01/24', 'https://medium.com/tag/health/archive/2018/01/25', 'https://medium.com/tag/health/archive/2018/01/26', 'https://medium.com/tag/health/archive/2018/01/27', 'https://medium.com/tag/health/archive/2018/01/28', 'https://medium.com/tag/health/archive/2018/01/29', 'https://medium.com/tag/health/archive/2018/01/30', 'https://medium.com/tag/health/archive/2018/01/31', 'https://medium.com/tag/health/archive/2018/02/01']\n",
      "***** 92 articles on 20180101, 92 total articles so far ****\n",
      "***** 76 articles on 20180107, 168 total articles so far ****\n",
      "***** 141 articles on 20180102, 309 total articles so far ****\n",
      "***** 103 articles on 20180106, 412 total articles so far ****\n",
      "***** 166 articles on 20180108, 578 total articles so far ****\n",
      "***** 172 articles on 20180110, 750 total articles so far ****\n",
      "***** 156 articles on 20180112, 906 total articles so far ****\n",
      "***** 167 articles on 20180111, 1073 total articles so far ****\n",
      "***** 90 articles on 20180113, 1163 total articles so far ****\n",
      "***** 79 articles on 20180114, 1242 total articles so far ****\n",
      "***** 140 articles on 20180115, 1382 total articles so far ****\n",
      "***** 171 articles on 20180116, 1553 total articles so far ****\n",
      "***** 161 articles on 20180117, 1714 total articles so far ****\n",
      "***** 163 articles on 20180104, 1877 total articles so far ****\n",
      "***** 164 articles on 20180105, 2041 total articles so far ****\n",
      "***** 172 articles on 20180109, 2213 total articles so far ****\n",
      "***** 159 articles on 20180103, 2372 total articles so far ****\n",
      "***** 91 articles on 20180121, 2463 total articles so far ****\n",
      "***** 163 articles on 20180119, 2626 total articles so far ****\n",
      "***** 109 articles on 20180120, 2735 total articles so far ****\n",
      "***** 160 articles on 20180118, 2895 total articles so far ****\n",
      "***** 165 articles on 20180122, 3060 total articles so far ****\n",
      "***** 173 articles on 20180123, 3233 total articles so far ****\n",
      "***** 88 articles on 20180128, 3321 total articles so far ****\n",
      "***** 161 articles on 20180125, 3482 total articles so far ****\n",
      "***** 156 articles on 20180124, 3638 total articles so far ****\n",
      "***** 132 articles on 20180126, 3770 total articles so far ****\n",
      "***** 117 articles on 20180127, 3887 total articles so far ****\n",
      "***** 154 articles on 20180129, 4041 total articles so far ****\n",
      "***** 171 articles on 20180131, 4212 total articles so far ****\n",
      "***** 163 articles on 20180201, 4375 total articles so far ****\n",
      "***** 173 articles on 20180130, 4548 total articles so far ****\n",
      "1094.04 seconds\n",
      "1094.04 seconds; 4511 articles\n"
     ]
    }
   ],
   "source": [
    "delay = 0.1625\n",
    "\n",
    "command, output_file = run_string(delay)\n",
    "runtime = time_script(command)\n",
    "n_articles = check_output(output_file)\n",
    "\n",
    "print('{0} seconds; {1} articles'.format(runtime, n_articles))"
   ]
  },
  {
   "cell_type": "code",
   "execution_count": 72,
   "metadata": {},
   "outputs": [
    {
     "name": "stdout",
     "output_type": "stream",
     "text": [
      "scrapy runspider -a tag=health -a start_date=20180101 -a end_date=20180201 --logfile logs/20180101health20180201_0.1675.log medium_scraper_tag_archive_TIME-TEST.py -o scraped_data/20180101health20180201_0.1675.json -s DOWNLOAD_DELAY=0.1675\n",
      "['https://medium.com/tag/health/archive/2018/01/01', 'https://medium.com/tag/health/archive/2018/01/02', 'https://medium.com/tag/health/archive/2018/01/03', 'https://medium.com/tag/health/archive/2018/01/04', 'https://medium.com/tag/health/archive/2018/01/05', 'https://medium.com/tag/health/archive/2018/01/06', 'https://medium.com/tag/health/archive/2018/01/07', 'https://medium.com/tag/health/archive/2018/01/08', 'https://medium.com/tag/health/archive/2018/01/09', 'https://medium.com/tag/health/archive/2018/01/10', 'https://medium.com/tag/health/archive/2018/01/11', 'https://medium.com/tag/health/archive/2018/01/12', 'https://medium.com/tag/health/archive/2018/01/13', 'https://medium.com/tag/health/archive/2018/01/14', 'https://medium.com/tag/health/archive/2018/01/15', 'https://medium.com/tag/health/archive/2018/01/16', 'https://medium.com/tag/health/archive/2018/01/17', 'https://medium.com/tag/health/archive/2018/01/18', 'https://medium.com/tag/health/archive/2018/01/19', 'https://medium.com/tag/health/archive/2018/01/20', 'https://medium.com/tag/health/archive/2018/01/21', 'https://medium.com/tag/health/archive/2018/01/22', 'https://medium.com/tag/health/archive/2018/01/23', 'https://medium.com/tag/health/archive/2018/01/24', 'https://medium.com/tag/health/archive/2018/01/25', 'https://medium.com/tag/health/archive/2018/01/26', 'https://medium.com/tag/health/archive/2018/01/27', 'https://medium.com/tag/health/archive/2018/01/28', 'https://medium.com/tag/health/archive/2018/01/29', 'https://medium.com/tag/health/archive/2018/01/30', 'https://medium.com/tag/health/archive/2018/01/31', 'https://medium.com/tag/health/archive/2018/02/01']\n",
      "***** 92 articles on 20180101, 92 total articles so far ****\n",
      "***** 76 articles on 20180107, 168 total articles so far ****\n",
      "***** 103 articles on 20180106, 271 total articles so far ****\n",
      "***** 141 articles on 20180102, 412 total articles so far ****\n",
      "***** 159 articles on 20180103, 571 total articles so far ****\n",
      "***** 166 articles on 20180108, 737 total articles so far ****\n",
      "***** 164 articles on 20180105, 901 total articles so far ****\n",
      "***** 163 articles on 20180104, 1064 total articles so far ****\n",
      "***** 90 articles on 20180113, 1154 total articles so far ****\n",
      "***** 79 articles on 20180114, 1233 total articles so far ****\n",
      "***** 156 articles on 20180112, 1389 total articles so far ****\n",
      "***** 140 articles on 20180115, 1529 total articles so far ****\n",
      "***** 172 articles on 20180110, 1701 total articles so far ****\n",
      "***** 172 articles on 20180109, 1873 total articles so far ****\n",
      "***** 171 articles on 20180116, 2044 total articles so far ****\n",
      "***** 167 articles on 20180111, 2211 total articles so far ****\n",
      "***** 161 articles on 20180117, 2372 total articles so far ****\n",
      "***** 160 articles on 20180118, 2532 total articles so far ****\n",
      "***** 91 articles on 20180121, 2623 total articles so far ****\n",
      "***** 109 articles on 20180120, 2732 total articles so far ****\n",
      "***** 163 articles on 20180119, 2895 total articles so far ****\n",
      "***** 165 articles on 20180122, 3060 total articles so far ****\n",
      "***** 173 articles on 20180123, 3233 total articles so far ****\n",
      "***** 161 articles on 20180125, 3394 total articles so far ****\n",
      "***** 117 articles on 20180127, 3511 total articles so far ****\n",
      "***** 156 articles on 20180124, 3667 total articles so far ****\n",
      "***** 132 articles on 20180126, 3799 total articles so far ****\n",
      "***** 88 articles on 20180128, 3887 total articles so far ****\n",
      "***** 171 articles on 20180131, 4058 total articles so far ****\n",
      "***** 173 articles on 20180130, 4231 total articles so far ****\n",
      "***** 154 articles on 20180129, 4385 total articles so far ****\n",
      "***** 163 articles on 20180201, 4548 total articles so far ****\n",
      "1040.64 seconds\n",
      "1040.64 seconds; 4518 articles\n"
     ]
    }
   ],
   "source": [
    "delay = 0.1675\n",
    "\n",
    "command, output_file = run_string(delay)\n",
    "runtime = time_script(command)\n",
    "n_articles = check_output(output_file)\n",
    "\n",
    "print('{0} seconds; {1} articles'.format(runtime, n_articles))"
   ]
  },
  {
   "cell_type": "markdown",
   "metadata": {},
   "source": [
    "# I will use 0.17 as the current optimal delay time. It is the smallest value such  that no 429 errors were raised in the 1 month span."
   ]
  },
  {
   "cell_type": "markdown",
   "metadata": {},
   "source": [
    "a useful statistic for future tests is to automate the count of 429 errors raised from the log file"
   ]
  },
  {
   "cell_type": "code",
   "execution_count": null,
   "metadata": {},
   "outputs": [],
   "source": []
  }
 ],
 "metadata": {
  "kernelspec": {
   "display_name": "Python 3",
   "language": "python",
   "name": "python3"
  },
  "language_info": {
   "codemirror_mode": {
    "name": "ipython",
    "version": 3
   },
   "file_extension": ".py",
   "mimetype": "text/x-python",
   "name": "python",
   "nbconvert_exporter": "python",
   "pygments_lexer": "ipython3",
   "version": "3.8.3"
  }
 },
 "nbformat": 4,
 "nbformat_minor": 4
}
