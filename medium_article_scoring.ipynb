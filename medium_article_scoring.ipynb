{
 "cells": [
  {
   "cell_type": "code",
   "execution_count": null,
   "metadata": {},
   "outputs": [],
   "source": [
    "import nltk\n",
    "import pandas as pd\n",
    "import numpy as np\n",
    "import re\n",
    "import string\n",
    "from newspaper import Article\n",
    "from sklearn.feature_extraction.text import CountVectorizer\n",
    "import matplotlib.pyplot as plt"
   ]
  },
  {
   "cell_type": "code",
   "execution_count": null,
   "metadata": {},
   "outputs": [],
   "source": [
    "article = Article(\"https://time.com/4793331/instagram-social-media-mental-health/\")\n",
    "article.download()\n",
    "article.parse()\n",
    "corpus = article.text"
   ]
  },
  {
   "cell_type": "code",
   "execution_count": null,
   "metadata": {},
   "outputs": [],
   "source": [
    "def clean(text):\n",
    "    text = text.lower()\n",
    "    text = re.sub('\\n','',text) \n",
    "    text = re.sub('[.*?\\â£]', '', text)\n",
    "    text = re.sub('[%s]' % re.escape(string.punctuation), '', text)\n",
    "    text = re.sub('\\w*\\d\\w*', '', text)\n",
    "    return text\n",
    "\n",
    "clean_corpus = [clean(corpus)]\n",
    "clean_corpus"
   ]
  },
  {
   "cell_type": "code",
   "execution_count": null,
   "metadata": {},
   "outputs": [],
   "source": [
    "cv = CountVectorizer(ngram_range = (1,1), stop_words='english')\n",
    "data_cv = cv.fit_transform(clean_corpus)\n",
    "data_dtm = pd.DataFrame(data_cv.toarray(), columns=cv.get_feature_names())\n",
    "count = data_dtm.index\n",
    "count.name = 'count'\n",
    "data_dtm.head()\n",
    "\n",
    "print(cv.get_feature_names())"
   ]
  },
  {
   "cell_type": "code",
   "execution_count": null,
   "metadata": {},
   "outputs": [],
   "source": [
    "# Correlating text to colors that affect mood\n",
    "purple_neg = ['mystery', 'moodiness', 'boredom', 'confusion', 'disconnection']\n",
    "purple_pos = ['connection', 'wisdom', 'spirituality', 'royalty', 'nobility', 'luxury', 'ambition', 'wealth', 'awaken']\n",
    "\n",
    "blue_neg = ['coldness', 'masculinity', 'disgust', 'conflict', 'aggression']\n",
    "blue_pos = ['intuition', 'imagination', 'iranquility', 'security', 'integrity', 'peace', 'loyalty', 'faith', 'intelligence', 'spiritual']\n",
    "\n",
    "teal_neg = ['femininity', 'hostility', 'conflict', 'aggression', 'insecurity']\n",
    "teal_pos = ['communication', 'expression', 'spiritual', 'healing', 'protection', 'sophisticated', 'cleanse', 'expression']\n",
    "\n",
    "green_neg = ['envy', 'jealousy', 'guilt', 'fear', 'judgmental', 'unforgiving', 'anxiety']\n",
    "green_pos = ['compassion', 'trust', 'freshness', 'environment', 'new', 'money', 'fertile', 'health', 'grounded', 'reconnecting', 'balanced']\n",
    "\n",
    "yellow_neg = ['irresponsible', 'instability', 'grief', 'addiction', 'insecurity', 'depression']\n",
    "yellow_pos = ['confident', 'bright', 'sunny', 'energetic', 'warm', 'happy', 'perky', 'joy', 'intellect']\n",
    "\n",
    "orange_neg = ['ignorance', 'sluggishness', 'shame', 'compulsiveness', 'loneliness', 'dependence']\n",
    "orange_pos = ['courage', 'confidence', 'friendliness', 'success', 'creativity', 'openness', 'sexual']\n",
    "\n",
    "red_neg = ['anger', 'unsafe', 'warned', 'anxious', 'volatile', 'hopelessness']\n",
    "red_pos = ['love', 'passion', 'energy', 'power', 'strength', 'heat', 'desire', 'safe', 'instinctive', 'security', 'liberating']\n",
    "\n",
    "\n",
    "purple_neg_dtm = data_dtm.filter(purple_neg)\n",
    "purple_pos_dtm = data_dtm.filter(purple_pos)\n",
    "\n",
    "blue_neg_dtm = data_dtm.filter(blue_neg)\n",
    "blue_pos_dtm = data_dtm.filter(blue_pos)\n",
    "\n",
    "teal_neg_dtm = data_dtm.filter(teal_neg)\n",
    "teal_pos_dtm = data_dtm.filter(teal_pos)\n",
    "\n",
    "green_neg_dtm = data_dtm.filter(green_neg)\n",
    "green_pos_dtm = data_dtm.filter(green_pos)\n",
    "\n",
    "yellow_neg_dtm = data_dtm.filter(yellow_neg)\n",
    "yellow_pos_dtm = data_dtm.filter(yellow_pos)\n",
    "\n",
    "orange_neg_dtm = data_dtm.filter(orange_neg)\n",
    "orange_pos_dtm = data_dtm.filter(orange_pos)\n",
    "\n",
    "red_neg_dtm = data_dtm.filter(red_neg)\n",
    "red_pos_dtm = data_dtm.filter(red_pos)"
   ]
  },
  {
   "cell_type": "code",
   "execution_count": null,
   "metadata": {},
   "outputs": [],
   "source": [
    "colors = ['purple','teal','green','yellow','orange','red']\n",
    "scores = [4,2,33,1,1,1]\n",
    "sliceColors = ['pink', 'chocolate', 'ivory','yellow']\n",
    "plt.pie(scores,labels=colors,colors = colors,autopct='%1.1f%%')\n",
    "plt.title('Medium Article Color Scoring')\n",
    "plt.axis('equal')\n",
    "plt.show()"
   ]
  },
  {
   "cell_type": "code",
   "execution_count": null,
   "metadata": {},
   "outputs": [],
   "source": [
    "from sklearn.feature_extraction.text import TfidfTransformer\n",
    "transformer = TfidfTransformer()\n",
    "\n",
    "cv_unigram = CountVectorizer(ngram_range = (1,1), stop_words='english')\n",
    "cv_bigram = CountVectorizer(ngram_range = (2,2), stop_words='english')\n",
    "\n",
    "def unigram_themes(data):\n",
    "    data_cv_stop = cv_unigram.fit_transform(data)\n",
    "    transformed_weights = transformer.fit_transform(data_cv_stop)\n",
    "    weights = np.asarray(transformed_weights.mean(axis=0)).ravel().tolist()\n",
    "    weights_df = pd.DataFrame({'term': cv_unigram.get_feature_names(), 'weight': weights})\n",
    "    return weights_df.sort_values(by='weight', ascending=False).head(7)\n",
    "    \n",
    "def bigram_themes(data):\n",
    "    data_cv_stop = cv_bigram.fit_transform(data)\n",
    "    transformed_weights = transformer.fit_transform(data_cv_stop)\n",
    "    weights = np.asarray(transformed_weights.mean(axis=0)).ravel().tolist()\n",
    "    weights_df = pd.DataFrame({'term': cv_bigram.get_feature_names(), 'weight': weights})\n",
    "    return weights_df.sort_values(by='weight', ascending=False).head(7)\n",
    "\n",
    "\n",
    "#unigram_themes(clean_corpus)\n",
    "bigram_themes(clean_corpus)"
   ]
  },
  {
   "cell_type": "code",
   "execution_count": null,
   "metadata": {},
   "outputs": [],
   "source": [
    "from sklearn.decomposition import LatentDirichletAllocation as LDA\n",
    "n_topics = 2\n",
    "n_words = 4\n",
    "\n",
    "cv = CountVectorizer(ngram_range = (1,1), stop_words = 'english')\n",
    "\n",
    "def print_LDA_topics(model, count_vectorizer, n_top_words):\n",
    "    words = cv.get_feature_names()\n",
    "    for topic_idx, topic in enumerate(model.components_):\n",
    "        print(\"\\nTopic #%d:\" % topic_idx)\n",
    "        print(\" \".join([words[i] for i in topic.argsort()[:-n_top_words - 1:-1]]))\n",
    "        \n",
    "\n",
    "data_cv = cv.fit_transform(clean_corpus)\n",
    "lda = LDA(n_components=n_topics, n_jobs=-1)\n",
    "lda.fit(data_cv)\n",
    "print_LDA_topics(lda, cv, n_words)"
   ]
  }
 ],
 "metadata": {
  "kernelspec": {
   "display_name": "Python 3",
   "language": "python",
   "name": "python3"
  },
  "language_info": {
   "codemirror_mode": {
    "name": "ipython",
    "version": 3
   },
   "file_extension": ".py",
   "mimetype": "text/x-python",
   "name": "python",
   "nbconvert_exporter": "python",
   "pygments_lexer": "ipython3",
   "version": "3.7.4"
  }
 },
 "nbformat": 4,
 "nbformat_minor": 4
}
